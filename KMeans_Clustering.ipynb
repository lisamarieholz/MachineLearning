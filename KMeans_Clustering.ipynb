{
  "cells": [
    {
      "cell_type": "markdown",
      "metadata": {
        "id": "view-in-github",
        "colab_type": "text"
      },
      "source": [
        "<a href=\"https://colab.research.google.com/github/lisamarieholz/MachineLearning/blob/main/KMeans_Clustering.ipynb\" target=\"_parent\"><img src=\"https://colab.research.google.com/assets/colab-badge.svg\" alt=\"Open In Colab\"/></a>"
      ]
    },
    {
      "cell_type": "markdown",
      "metadata": {
        "id": "7ywSRtNI4s5h"
      },
      "source": [
        "# 0.) Import and Clean data"
      ]
    },
    {
      "cell_type": "code",
      "execution_count": null,
      "metadata": {
        "id": "nsG1QV154GYZ"
      },
      "outputs": [],
      "source": [
        "import pandas as pd\n",
        "from google.colab import drive\n",
        "import matplotlib.pyplot as plt\n",
        "import numpy as np"
      ]
    },
    {
      "cell_type": "code",
      "execution_count": null,
      "metadata": {
        "id": "lFEZb7-YfvAj"
      },
      "outputs": [],
      "source": [
        "from sklearn.preprocessing import StandardScaler\n",
        "from sklearn.cluster import KMeans"
      ]
    },
    {
      "cell_type": "code",
      "execution_count": null,
      "metadata": {
        "colab": {
          "base_uri": "https://localhost:8080/"
        },
        "id": "Iku0T8Ou4Lcu",
        "outputId": "a4030a99-c0f8-4083-b934-2b12ffe9f78d"
      },
      "outputs": [
        {
          "name": "stdout",
          "output_type": "stream",
          "text": [
            "Mounted at /content/gdrive/\n"
          ]
        }
      ],
      "source": [
        "drive.mount('/content/gdrive/', force_remount = True)"
      ]
    },
    {
      "cell_type": "code",
      "execution_count": null,
      "metadata": {
        "id": "KJQfo8mz43Kz"
      },
      "outputs": [],
      "source": [
        "df = pd.read_csv(\"/content/gdrive/MyDrive/ECON441B/Data/Country-data.csv\", sep = \",\")"
      ]
    },
    {
      "cell_type": "code",
      "execution_count": null,
      "metadata": {
        "colab": {
          "base_uri": "https://localhost:8080/",
          "height": 206
        },
        "id": "mKWSRv-q98wE",
        "outputId": "78ee812e-ad6b-4671-836e-d1d7630a827c"
      },
      "outputs": [
        {
          "data": {
            "text/html": [
              "<div>\n",
              "<style scoped>\n",
              "    .dataframe tbody tr th:only-of-type {\n",
              "        vertical-align: middle;\n",
              "    }\n",
              "\n",
              "    .dataframe tbody tr th {\n",
              "        vertical-align: top;\n",
              "    }\n",
              "\n",
              "    .dataframe thead th {\n",
              "        text-align: right;\n",
              "    }\n",
              "</style>\n",
              "<table border=\"1\" class=\"dataframe\">\n",
              "  <thead>\n",
              "    <tr style=\"text-align: right;\">\n",
              "      <th></th>\n",
              "      <th>country</th>\n",
              "      <th>child_mort</th>\n",
              "      <th>exports</th>\n",
              "      <th>health</th>\n",
              "      <th>imports</th>\n",
              "      <th>income</th>\n",
              "      <th>inflation</th>\n",
              "      <th>life_expec</th>\n",
              "      <th>total_fer</th>\n",
              "      <th>gdpp</th>\n",
              "    </tr>\n",
              "  </thead>\n",
              "  <tbody>\n",
              "    <tr>\n",
              "      <th>0</th>\n",
              "      <td>Afghanistan</td>\n",
              "      <td>90.2</td>\n",
              "      <td>10.0</td>\n",
              "      <td>7.58</td>\n",
              "      <td>44.9</td>\n",
              "      <td>1610</td>\n",
              "      <td>9.44</td>\n",
              "      <td>56.2</td>\n",
              "      <td>5.82</td>\n",
              "      <td>553</td>\n",
              "    </tr>\n",
              "    <tr>\n",
              "      <th>1</th>\n",
              "      <td>Albania</td>\n",
              "      <td>16.6</td>\n",
              "      <td>28.0</td>\n",
              "      <td>6.55</td>\n",
              "      <td>48.6</td>\n",
              "      <td>9930</td>\n",
              "      <td>4.49</td>\n",
              "      <td>76.3</td>\n",
              "      <td>1.65</td>\n",
              "      <td>4090</td>\n",
              "    </tr>\n",
              "    <tr>\n",
              "      <th>2</th>\n",
              "      <td>Algeria</td>\n",
              "      <td>27.3</td>\n",
              "      <td>38.4</td>\n",
              "      <td>4.17</td>\n",
              "      <td>31.4</td>\n",
              "      <td>12900</td>\n",
              "      <td>16.10</td>\n",
              "      <td>76.5</td>\n",
              "      <td>2.89</td>\n",
              "      <td>4460</td>\n",
              "    </tr>\n",
              "    <tr>\n",
              "      <th>3</th>\n",
              "      <td>Angola</td>\n",
              "      <td>119.0</td>\n",
              "      <td>62.3</td>\n",
              "      <td>2.85</td>\n",
              "      <td>42.9</td>\n",
              "      <td>5900</td>\n",
              "      <td>22.40</td>\n",
              "      <td>60.1</td>\n",
              "      <td>6.16</td>\n",
              "      <td>3530</td>\n",
              "    </tr>\n",
              "    <tr>\n",
              "      <th>4</th>\n",
              "      <td>Antigua and Barbuda</td>\n",
              "      <td>10.3</td>\n",
              "      <td>45.5</td>\n",
              "      <td>6.03</td>\n",
              "      <td>58.9</td>\n",
              "      <td>19100</td>\n",
              "      <td>1.44</td>\n",
              "      <td>76.8</td>\n",
              "      <td>2.13</td>\n",
              "      <td>12200</td>\n",
              "    </tr>\n",
              "  </tbody>\n",
              "</table>\n",
              "</div>"
            ],
            "text/plain": [
              "               country  child_mort  exports  health  imports  income  \\\n",
              "0          Afghanistan        90.2     10.0    7.58     44.9    1610   \n",
              "1              Albania        16.6     28.0    6.55     48.6    9930   \n",
              "2              Algeria        27.3     38.4    4.17     31.4   12900   \n",
              "3               Angola       119.0     62.3    2.85     42.9    5900   \n",
              "4  Antigua and Barbuda        10.3     45.5    6.03     58.9   19100   \n",
              "\n",
              "   inflation  life_expec  total_fer   gdpp  \n",
              "0       9.44        56.2       5.82    553  \n",
              "1       4.49        76.3       1.65   4090  \n",
              "2      16.10        76.5       2.89   4460  \n",
              "3      22.40        60.1       6.16   3530  \n",
              "4       1.44        76.8       2.13  12200  "
            ]
          },
          "execution_count": 4,
          "metadata": {},
          "output_type": "execute_result"
        }
      ],
      "source": [
        "df.head()"
      ]
    },
    {
      "cell_type": "code",
      "execution_count": null,
      "metadata": {
        "colab": {
          "base_uri": "https://localhost:8080/"
        },
        "id": "Oj-k5XJNCNOr",
        "outputId": "bbd202a6-bd2d-4be3-ddd3-088feb94eb42"
      },
      "outputs": [
        {
          "data": {
            "text/plain": [
              "Index(['country', 'child_mort', 'exports', 'health', 'imports', 'income',\n",
              "       'inflation', 'life_expec', 'total_fer', 'gdpp'],\n",
              "      dtype='object')"
            ]
          },
          "execution_count": 5,
          "metadata": {},
          "output_type": "execute_result"
        }
      ],
      "source": [
        "df.columns"
      ]
    },
    {
      "cell_type": "code",
      "execution_count": null,
      "metadata": {
        "id": "amzzWZ-G9SNe"
      },
      "outputs": [],
      "source": [
        "names = df[[\"country\"]]\n",
        "X = df.drop([\"country\"], axis = 1)\n",
        "\n"
      ]
    },
    {
      "cell_type": "code",
      "execution_count": null,
      "metadata": {
        "id": "PavsPgGU9Rrx"
      },
      "outputs": [],
      "source": [
        "scaler = StandardScaler().fit(X)\n",
        "X_scaled = scaler.transform(X)"
      ]
    },
    {
      "cell_type": "markdown",
      "metadata": {
        "id": "YLn6XlFqMaCY"
      },
      "source": [
        "# 1.) Fit a kmeans Model with any Number of Clusters"
      ]
    },
    {
      "cell_type": "code",
      "execution_count": null,
      "metadata": {
        "id": "ntDMWRN-8yAi"
      },
      "outputs": [],
      "source": [
        "kmeans = KMeans(n_clusters= 3, n_init=20,\n",
        "                random_state=42).fit(X_scaled)"
      ]
    },
    {
      "cell_type": "code",
      "execution_count": null,
      "metadata": {
        "id": "uzUXpEVM4qwh",
        "outputId": "1e763e72-e5ea-4a4f-a888-712563a0be22"
      },
      "outputs": [
        {
          "data": {
            "text/html": [
              "<style>#sk-container-id-4 {color: black;background-color: white;}#sk-container-id-4 pre{padding: 0;}#sk-container-id-4 div.sk-toggleable {background-color: white;}#sk-container-id-4 label.sk-toggleable__label {cursor: pointer;display: block;width: 100%;margin-bottom: 0;padding: 0.3em;box-sizing: border-box;text-align: center;}#sk-container-id-4 label.sk-toggleable__label-arrow:before {content: \"▸\";float: left;margin-right: 0.25em;color: #696969;}#sk-container-id-4 label.sk-toggleable__label-arrow:hover:before {color: black;}#sk-container-id-4 div.sk-estimator:hover label.sk-toggleable__label-arrow:before {color: black;}#sk-container-id-4 div.sk-toggleable__content {max-height: 0;max-width: 0;overflow: hidden;text-align: left;background-color: #f0f8ff;}#sk-container-id-4 div.sk-toggleable__content pre {margin: 0.2em;color: black;border-radius: 0.25em;background-color: #f0f8ff;}#sk-container-id-4 input.sk-toggleable__control:checked~div.sk-toggleable__content {max-height: 200px;max-width: 100%;overflow: auto;}#sk-container-id-4 input.sk-toggleable__control:checked~label.sk-toggleable__label-arrow:before {content: \"▾\";}#sk-container-id-4 div.sk-estimator input.sk-toggleable__control:checked~label.sk-toggleable__label {background-color: #d4ebff;}#sk-container-id-4 div.sk-label input.sk-toggleable__control:checked~label.sk-toggleable__label {background-color: #d4ebff;}#sk-container-id-4 input.sk-hidden--visually {border: 0;clip: rect(1px 1px 1px 1px);clip: rect(1px, 1px, 1px, 1px);height: 1px;margin: -1px;overflow: hidden;padding: 0;position: absolute;width: 1px;}#sk-container-id-4 div.sk-estimator {font-family: monospace;background-color: #f0f8ff;border: 1px dotted black;border-radius: 0.25em;box-sizing: border-box;margin-bottom: 0.5em;}#sk-container-id-4 div.sk-estimator:hover {background-color: #d4ebff;}#sk-container-id-4 div.sk-parallel-item::after {content: \"\";width: 100%;border-bottom: 1px solid gray;flex-grow: 1;}#sk-container-id-4 div.sk-label:hover label.sk-toggleable__label {background-color: #d4ebff;}#sk-container-id-4 div.sk-serial::before {content: \"\";position: absolute;border-left: 1px solid gray;box-sizing: border-box;top: 0;bottom: 0;left: 50%;z-index: 0;}#sk-container-id-4 div.sk-serial {display: flex;flex-direction: column;align-items: center;background-color: white;padding-right: 0.2em;padding-left: 0.2em;position: relative;}#sk-container-id-4 div.sk-item {position: relative;z-index: 1;}#sk-container-id-4 div.sk-parallel {display: flex;align-items: stretch;justify-content: center;background-color: white;position: relative;}#sk-container-id-4 div.sk-item::before, #sk-container-id-4 div.sk-parallel-item::before {content: \"\";position: absolute;border-left: 1px solid gray;box-sizing: border-box;top: 0;bottom: 0;left: 50%;z-index: -1;}#sk-container-id-4 div.sk-parallel-item {display: flex;flex-direction: column;z-index: 1;position: relative;background-color: white;}#sk-container-id-4 div.sk-parallel-item:first-child::after {align-self: flex-end;width: 50%;}#sk-container-id-4 div.sk-parallel-item:last-child::after {align-self: flex-start;width: 50%;}#sk-container-id-4 div.sk-parallel-item:only-child::after {width: 0;}#sk-container-id-4 div.sk-dashed-wrapped {border: 1px dashed gray;margin: 0 0.4em 0.5em 0.4em;box-sizing: border-box;padding-bottom: 0.4em;background-color: white;}#sk-container-id-4 div.sk-label label {font-family: monospace;font-weight: bold;display: inline-block;line-height: 1.2em;}#sk-container-id-4 div.sk-label-container {text-align: center;}#sk-container-id-4 div.sk-container {/* jupyter's `normalize.less` sets `[hidden] { display: none; }` but bootstrap.min.css set `[hidden] { display: none !important; }` so we also need the `!important` here to be able to override the default hidden behavior on the sphinx rendered scikit-learn.org. See: https://github.com/scikit-learn/scikit-learn/issues/21755 */display: inline-block !important;position: relative;}#sk-container-id-4 div.sk-text-repr-fallback {display: none;}</style><div id=\"sk-container-id-4\" class=\"sk-top-container\"><div class=\"sk-text-repr-fallback\"><pre>KMeans(n_clusters=3, n_init=20, random_state=42)</pre><b>In a Jupyter environment, please rerun this cell to show the HTML representation or trust the notebook. <br />On GitHub, the HTML representation is unable to render, please try loading this page with nbviewer.org.</b></div><div class=\"sk-container\" hidden><div class=\"sk-item\"><div class=\"sk-estimator sk-toggleable\"><input class=\"sk-toggleable__control sk-hidden--visually\" id=\"sk-estimator-id-4\" type=\"checkbox\" checked><label for=\"sk-estimator-id-4\" class=\"sk-toggleable__label sk-toggleable__label-arrow\">KMeans</label><div class=\"sk-toggleable__content\"><pre>KMeans(n_clusters=3, n_init=20, random_state=42)</pre></div></div></div></div></div>"
            ],
            "text/plain": [
              "KMeans(n_clusters=3, n_init=20, random_state=42)"
            ]
          },
          "execution_count": 33,
          "metadata": {},
          "output_type": "execute_result"
        }
      ],
      "source": [
        "kmeans"
      ]
    },
    {
      "cell_type": "markdown",
      "metadata": {
        "id": "LkpVmNYRMtyq"
      },
      "source": [
        "# 2.) Pick two features to visualize across"
      ]
    },
    {
      "cell_type": "code",
      "execution_count": null,
      "metadata": {
        "colab": {
          "base_uri": "https://localhost:8080/"
        },
        "id": "oTmfYVYrN53a",
        "outputId": "f23623ce-251c-49e2-acdf-04feb4123931"
      },
      "outputs": [
        {
          "data": {
            "text/plain": [
              "Index(['child_mort', 'exports', 'health', 'imports', 'income', 'inflation',\n",
              "       'life_expec', 'total_fer', 'gdpp'],\n",
              "      dtype='object')"
            ]
          },
          "execution_count": 34,
          "metadata": {},
          "output_type": "execute_result"
        }
      ],
      "source": [
        "X.columns"
      ]
    },
    {
      "cell_type": "code",
      "execution_count": null,
      "metadata": {
        "colab": {
          "base_uri": "https://localhost:8080/",
          "height": 296
        },
        "id": "GksDZxUsDbzM",
        "outputId": "617460e4-682c-4fc5-f54f-c89ff10c7c16",
        "scrolled": true
      },
      "outputs": [
        {
          "data": {
            "image/png": "[encoded data removed]",
            "text/plain": [
              "<Figure size 432x288 with 1 Axes>"
            ]
          },
          "metadata": {
            "needs_background": "light"
          },
          "output_type": "display_data"
        }
      ],
      "source": [
        "# CHANGE THESE BASED ON WHICH IS INTERESTING TO YOU\n",
        "x1_index = 6\n",
        "x2_index = 4\n",
        "\n",
        "\n",
        "plt.scatter(X_scaled[:, x1_index], X_scaled[:, x2_index], c=kmeans.labels_, cmap='viridis')\n",
        "plt.scatter(kmeans.cluster_centers_[:, x1_index], kmeans.cluster_centers_[:, x2_index], marker='o', color='black', s=100)\n",
        "\n",
        "plt.xlabel(X.columns[x1_index])\n",
        "plt.ylabel(X.columns[x2_index])\n",
        "plt.title('Scatter Plot of Customers')\n",
        "plt.legend([\"Group 1\", \"Center\", \"Group 2\"])\n",
        "plt.grid()\n",
        "plt.show()"
      ]
    },
    {
      "cell_type": "markdown",
      "metadata": {
        "id": "827DR0zsOkNA"
      },
      "source": [
        "# 3.) Check a range of k-clusters and visualize to find the elbow. Test 30 different random starting places for the centroid means\n",
        " "
      ]
    },
    {
      "cell_type": "code",
      "execution_count": null,
      "metadata": {
        "id": "2_YuJa4IFKda"
      },
      "outputs": [],
      "source": [
        "WCSSs=[] #init is num of iterations\n",
        "Ks=range(1,15)\n",
        "for k in Ks:\n",
        "    kmeans= KMeans(n_clusters=k,n_init=30, init=\"random\")\n",
        "    kmeans.fit(X_scaled)\n",
        "    WCSSs.append(kmeans.inertia_)"
      ]
    },
    {
      "cell_type": "code",
      "execution_count": null,
      "metadata": {
        "id": "Vfz1eA5ZP4wE",
        "outputId": "4e217c8b-31c5-4ca8-cc41-2b9244ca38ce"
      },
      "outputs": [
        {
          "data": {
            "image/png": "[encoded data removed]",
            "text/plain": [
              "<Figure size 432x288 with 1 Axes>"
            ]
          },
          "metadata": {
            "needs_background": "light"
          },
          "output_type": "display_data"
        }
      ],
      "source": [
        "plt.plot(WCSSs)\n",
        "plt.xlabel('Number of Clusters')\n",
        "plt.ylabel('WCSS')\n",
        "plt.show()"
      ]
    },
    {
      "cell_type": "markdown",
      "metadata": {
        "id": "aNEDRA7XPkMN"
      },
      "source": [
        "# 4.) Use the above work and economic critical thinking to choose a number of clusters. Explain why you chose the number of clusters and fit a model accordingly."
      ]
    },
    {
      "cell_type": "markdown",
      "metadata": {
        "id": "zIrbF2Nn4qwm"
      },
      "source": [
        "Given that the above graph levels off significantly at k=3 and countries can be labeled as high, medium, and low income with long, average, and low life expectancy, k=3 is a reasonable choice for the number of clusters."
      ]
    },
    {
      "cell_type": "code",
      "execution_count": null,
      "metadata": {
        "id": "o0TG8sABQake"
      },
      "outputs": [],
      "source": [
        "k=3\n",
        "kmeans=KMeans(n_clusters=k,n_init=30, init=\"random\").fit(X_scaled)"
      ]
    },
    {
      "cell_type": "markdown",
      "metadata": {
        "id": "Z6xfLRZIRfdl"
      },
      "source": [
        "# 5.) Create a list of the countries that are in each cluster. Write interesting things you notice. "
      ]
    },
    {
      "cell_type": "code",
      "execution_count": null,
      "metadata": {
        "id": "i_YManiK4qwo"
      },
      "outputs": [],
      "source": [
        "df['cluster_label'] = kmeans.labels_"
      ]
    },
    {
      "cell_type": "markdown",
      "metadata": {
        "id": "TXxe_meF4qwo"
      },
      "source": [
        "Mostly African countries in cluster 0."
      ]
    },
    {
      "cell_type": "markdown",
      "metadata": {
        "id": "THZzNwbm4qwp"
      },
      "source": [
        "Most of the countries in cluster 1 are high-income developed countries in Europe."
      ]
    },
    {
      "cell_type": "markdown",
      "metadata": {
        "id": "8XSZ6B-84qwp"
      },
      "source": [
        "Cluster 2 has middle-income countries."
      ]
    },
    {
      "cell_type": "code",
      "execution_count": null,
      "metadata": {
        "scrolled": true,
        "id": "Wc4J5s6t4qwp",
        "outputId": "59590dc8-8edb-401b-becc-7525bac50955"
      },
      "outputs": [
        {
          "data": {
            "text/plain": [
              "[0                   Afghanistan\n",
              " 3                        Angola\n",
              " 17                        Benin\n",
              " 21                     Botswana\n",
              " 25                 Burkina Faso\n",
              " 26                      Burundi\n",
              " 28                     Cameroon\n",
              " 31     Central African Republic\n",
              " 32                         Chad\n",
              " 36                      Comoros\n",
              " 37             Congo, Dem. Rep.\n",
              " 38                  Congo, Rep.\n",
              " 40                Cote d'Ivoire\n",
              " 49            Equatorial Guinea\n",
              " 50                      Eritrea\n",
              " 55                        Gabon\n",
              " 56                       Gambia\n",
              " 59                        Ghana\n",
              " 63                       Guinea\n",
              " 64                Guinea-Bissau\n",
              " 66                        Haiti\n",
              " 72                         Iraq\n",
              " 80                        Kenya\n",
              " 81                     Kiribati\n",
              " 84                          Lao\n",
              " 87                      Lesotho\n",
              " 88                      Liberia\n",
              " 93                   Madagascar\n",
              " 94                       Malawi\n",
              " 97                         Mali\n",
              " 99                   Mauritania\n",
              " 106                  Mozambique\n",
              " 108                     Namibia\n",
              " 112                       Niger\n",
              " 113                     Nigeria\n",
              " 116                    Pakistan\n",
              " 126                      Rwanda\n",
              " 129                     Senegal\n",
              " 132                Sierra Leone\n",
              " 137                South Africa\n",
              " 142                       Sudan\n",
              " 147                    Tanzania\n",
              " 149                 Timor-Leste\n",
              " 150                        Togo\n",
              " 155                      Uganda\n",
              " 165                       Yemen\n",
              " 166                      Zambia\n",
              " Name: country, dtype: object]"
            ]
          },
          "execution_count": 71,
          "metadata": {},
          "output_type": "execute_result"
        }
      ],
      "source": [
        "cluster0_countries = [df[df['cluster_label'] ==0]['country']]\n",
        "cluster0_countries"
      ]
    },
    {
      "cell_type": "code",
      "execution_count": null,
      "metadata": {
        "scrolled": true,
        "id": "0NYP-gPB4qwq",
        "outputId": "63da4b3a-85ab-423f-ff7d-b21801213fb1"
      },
      "outputs": [
        {
          "data": {
            "text/plain": [
              "[7                 Australia\n",
              " 8                   Austria\n",
              " 11                  Bahrain\n",
              " 15                  Belgium\n",
              " 23                   Brunei\n",
              " 29                   Canada\n",
              " 42                   Cyprus\n",
              " 43           Czech Republic\n",
              " 44                  Denmark\n",
              " 53                  Finland\n",
              " 54                   France\n",
              " 58                  Germany\n",
              " 60                   Greece\n",
              " 68                  Iceland\n",
              " 73                  Ireland\n",
              " 74                   Israel\n",
              " 75                    Italy\n",
              " 77                    Japan\n",
              " 82                   Kuwait\n",
              " 91               Luxembourg\n",
              " 98                    Malta\n",
              " 110             Netherlands\n",
              " 111             New Zealand\n",
              " 114                  Norway\n",
              " 122                Portugal\n",
              " 123                   Qatar\n",
              " 133               Singapore\n",
              " 134         Slovak Republic\n",
              " 135                Slovenia\n",
              " 138             South Korea\n",
              " 139                   Spain\n",
              " 144                  Sweden\n",
              " 145             Switzerland\n",
              " 157    United Arab Emirates\n",
              " 158          United Kingdom\n",
              " 159           United States\n",
              " Name: country, dtype: object]"
            ]
          },
          "execution_count": 72,
          "metadata": {},
          "output_type": "execute_result"
        }
      ],
      "source": [
        "cluster1_countries = [df[df['cluster_label'] ==1]['country']]\n",
        "cluster1_countries"
      ]
    },
    {
      "cell_type": "code",
      "execution_count": null,
      "metadata": {
        "scrolled": true,
        "id": "qJE73fzU4qwq",
        "outputId": "d7187abe-ea1c-4c01-8be7-0091032fcdb2"
      },
      "outputs": [
        {
          "data": {
            "text/plain": [
              "[1                  Albania\n",
              " 2                  Algeria\n",
              " 4      Antigua and Barbuda\n",
              " 5                Argentina\n",
              " 6                  Armenia\n",
              "               ...         \n",
              " 160                Uruguay\n",
              " 161             Uzbekistan\n",
              " 162                Vanuatu\n",
              " 163              Venezuela\n",
              " 164                Vietnam\n",
              " Name: country, Length: 84, dtype: object]"
            ]
          },
          "execution_count": 73,
          "metadata": {},
          "output_type": "execute_result"
        }
      ],
      "source": [
        "cluster2_countries = [df[df['cluster_label'] ==2]['country']]\n",
        "cluster2_countries"
      ]
    },
    {
      "cell_type": "code",
      "execution_count": null,
      "metadata": {
        "id": "FGKYvaxd4qwr"
      },
      "outputs": [],
      "source": []
    },
    {
      "cell_type": "markdown",
      "metadata": {
        "id": "nEmf0AxkTJc1"
      },
      "source": [
        "# Q6.) Create a table of Descriptive Statistics. Rows being the Cluster number and columns being all the features. Values being the mean of the centroid. Use the nonscaled X values for interpretation"
      ]
    },
    {
      "cell_type": "code",
      "execution_count": null,
      "metadata": {
        "scrolled": true,
        "id": "uggf474O4qwr",
        "outputId": "982bdf53-0f4f-4e82-d4bd-1631b2769e44"
      },
      "outputs": [
        {
          "data": {
            "text/html": [
              "<div>\n",
              "<style scoped>\n",
              "    .dataframe tbody tr th:only-of-type {\n",
              "        vertical-align: middle;\n",
              "    }\n",
              "\n",
              "    .dataframe tbody tr th {\n",
              "        vertical-align: top;\n",
              "    }\n",
              "\n",
              "    .dataframe thead th {\n",
              "        text-align: right;\n",
              "    }\n",
              "</style>\n",
              "<table border=\"1\" class=\"dataframe\">\n",
              "  <thead>\n",
              "    <tr style=\"text-align: right;\">\n",
              "      <th></th>\n",
              "      <th>child_mort</th>\n",
              "      <th>exports</th>\n",
              "      <th>health</th>\n",
              "      <th>imports</th>\n",
              "      <th>income</th>\n",
              "      <th>inflation</th>\n",
              "      <th>life_expec</th>\n",
              "      <th>total_fer</th>\n",
              "      <th>gdpp</th>\n",
              "    </tr>\n",
              "    <tr>\n",
              "      <th>cluster_label</th>\n",
              "      <th></th>\n",
              "      <th></th>\n",
              "      <th></th>\n",
              "      <th></th>\n",
              "      <th></th>\n",
              "      <th></th>\n",
              "      <th></th>\n",
              "      <th></th>\n",
              "      <th></th>\n",
              "    </tr>\n",
              "  </thead>\n",
              "  <tbody>\n",
              "    <tr>\n",
              "      <th>0</th>\n",
              "      <td>92.961702</td>\n",
              "      <td>29.151277</td>\n",
              "      <td>6.388511</td>\n",
              "      <td>42.323404</td>\n",
              "      <td>3942.404255</td>\n",
              "      <td>12.019681</td>\n",
              "      <td>59.187234</td>\n",
              "      <td>5.008085</td>\n",
              "      <td>1922.382979</td>\n",
              "    </tr>\n",
              "    <tr>\n",
              "      <th>1</th>\n",
              "      <td>5.000000</td>\n",
              "      <td>58.738889</td>\n",
              "      <td>8.807778</td>\n",
              "      <td>51.491667</td>\n",
              "      <td>45672.222222</td>\n",
              "      <td>2.671250</td>\n",
              "      <td>80.127778</td>\n",
              "      <td>1.752778</td>\n",
              "      <td>42494.444444</td>\n",
              "    </tr>\n",
              "    <tr>\n",
              "      <th>2</th>\n",
              "      <td>21.927381</td>\n",
              "      <td>40.243917</td>\n",
              "      <td>6.200952</td>\n",
              "      <td>47.473404</td>\n",
              "      <td>12305.595238</td>\n",
              "      <td>7.600905</td>\n",
              "      <td>72.814286</td>\n",
              "      <td>2.307500</td>\n",
              "      <td>6486.452381</td>\n",
              "    </tr>\n",
              "  </tbody>\n",
              "</table>\n",
              "</div>"
            ],
            "text/plain": [
              "               child_mort    exports    health    imports        income  \\\n",
              "cluster_label                                                             \n",
              "0               92.961702  29.151277  6.388511  42.323404   3942.404255   \n",
              "1                5.000000  58.738889  8.807778  51.491667  45672.222222   \n",
              "2               21.927381  40.243917  6.200952  47.473404  12305.595238   \n",
              "\n",
              "               inflation  life_expec  total_fer          gdpp  \n",
              "cluster_label                                                  \n",
              "0              12.019681   59.187234   5.008085   1922.382979  \n",
              "1               2.671250   80.127778   1.752778  42494.444444  \n",
              "2               7.600905   72.814286   2.307500   6486.452381  "
            ]
          },
          "execution_count": 65,
          "metadata": {},
          "output_type": "execute_result"
        }
      ],
      "source": [
        "df.groupby('cluster_label').mean()"
      ]
    },
    {
      "cell_type": "code",
      "execution_count": null,
      "metadata": {
        "scrolled": false,
        "id": "WWdhKAS14qwr",
        "outputId": "ae2ca5f3-0c1a-4b47-cc35-eb0f62ade936"
      },
      "outputs": [
        {
          "data": {
            "text/html": [
              "<div>\n",
              "<style scoped>\n",
              "    .dataframe tbody tr th:only-of-type {\n",
              "        vertical-align: middle;\n",
              "    }\n",
              "\n",
              "    .dataframe tbody tr th {\n",
              "        vertical-align: top;\n",
              "    }\n",
              "\n",
              "    .dataframe thead th {\n",
              "        text-align: right;\n",
              "    }\n",
              "</style>\n",
              "<table border=\"1\" class=\"dataframe\">\n",
              "  <thead>\n",
              "    <tr style=\"text-align: right;\">\n",
              "      <th></th>\n",
              "      <th>child_mort</th>\n",
              "      <th>exports</th>\n",
              "      <th>health</th>\n",
              "      <th>imports</th>\n",
              "      <th>income</th>\n",
              "      <th>inflation</th>\n",
              "      <th>life_expec</th>\n",
              "      <th>total_fer</th>\n",
              "      <th>gdpp</th>\n",
              "    </tr>\n",
              "  </thead>\n",
              "  <tbody>\n",
              "    <tr>\n",
              "      <th>count</th>\n",
              "      <td>3.000000</td>\n",
              "      <td>3.000000</td>\n",
              "      <td>3.000000</td>\n",
              "      <td>3.000000</td>\n",
              "      <td>3.000000</td>\n",
              "      <td>3.000000</td>\n",
              "      <td>3.000000</td>\n",
              "      <td>3.000000</td>\n",
              "      <td>3.000000</td>\n",
              "    </tr>\n",
              "    <tr>\n",
              "      <th>mean</th>\n",
              "      <td>39.963028</td>\n",
              "      <td>42.711361</td>\n",
              "      <td>7.132414</td>\n",
              "      <td>47.096158</td>\n",
              "      <td>20640.073905</td>\n",
              "      <td>7.430612</td>\n",
              "      <td>70.709766</td>\n",
              "      <td>3.022788</td>\n",
              "      <td>16967.759935</td>\n",
              "    </tr>\n",
              "    <tr>\n",
              "      <th>std</th>\n",
              "      <td>46.672033</td>\n",
              "      <td>14.947338</td>\n",
              "      <td>1.453935</td>\n",
              "      <td>4.595758</td>\n",
              "      <td>22078.090449</td>\n",
              "      <td>4.676541</td>\n",
              "      <td>10.627716</td>\n",
              "      <td>1.741546</td>\n",
              "      <td>22224.229996</td>\n",
              "    </tr>\n",
              "    <tr>\n",
              "      <th>min</th>\n",
              "      <td>5.000000</td>\n",
              "      <td>29.151277</td>\n",
              "      <td>6.200952</td>\n",
              "      <td>42.323404</td>\n",
              "      <td>3942.404255</td>\n",
              "      <td>2.671250</td>\n",
              "      <td>59.187234</td>\n",
              "      <td>1.752778</td>\n",
              "      <td>1922.382979</td>\n",
              "    </tr>\n",
              "    <tr>\n",
              "      <th>25%</th>\n",
              "      <td>13.463690</td>\n",
              "      <td>34.697597</td>\n",
              "      <td>6.294732</td>\n",
              "      <td>44.898404</td>\n",
              "      <td>8123.999747</td>\n",
              "      <td>5.136077</td>\n",
              "      <td>66.000760</td>\n",
              "      <td>2.030139</td>\n",
              "      <td>4204.417680</td>\n",
              "    </tr>\n",
              "    <tr>\n",
              "      <th>50%</th>\n",
              "      <td>21.927381</td>\n",
              "      <td>40.243917</td>\n",
              "      <td>6.388511</td>\n",
              "      <td>47.473404</td>\n",
              "      <td>12305.595238</td>\n",
              "      <td>7.600905</td>\n",
              "      <td>72.814286</td>\n",
              "      <td>2.307500</td>\n",
              "      <td>6486.452381</td>\n",
              "    </tr>\n",
              "    <tr>\n",
              "      <th>75%</th>\n",
              "      <td>57.444542</td>\n",
              "      <td>49.491403</td>\n",
              "      <td>7.598144</td>\n",
              "      <td>49.482535</td>\n",
              "      <td>28988.908730</td>\n",
              "      <td>9.810293</td>\n",
              "      <td>76.471032</td>\n",
              "      <td>3.657793</td>\n",
              "      <td>24490.448413</td>\n",
              "    </tr>\n",
              "    <tr>\n",
              "      <th>max</th>\n",
              "      <td>92.961702</td>\n",
              "      <td>58.738889</td>\n",
              "      <td>8.807778</td>\n",
              "      <td>51.491667</td>\n",
              "      <td>45672.222222</td>\n",
              "      <td>12.019681</td>\n",
              "      <td>80.127778</td>\n",
              "      <td>5.008085</td>\n",
              "      <td>42494.444444</td>\n",
              "    </tr>\n",
              "  </tbody>\n",
              "</table>\n",
              "</div>"
            ],
            "text/plain": [
              "       child_mort    exports    health    imports        income  inflation  \\\n",
              "count    3.000000   3.000000  3.000000   3.000000      3.000000   3.000000   \n",
              "mean    39.963028  42.711361  7.132414  47.096158  20640.073905   7.430612   \n",
              "std     46.672033  14.947338  1.453935   4.595758  22078.090449   4.676541   \n",
              "min      5.000000  29.151277  6.200952  42.323404   3942.404255   2.671250   \n",
              "25%     13.463690  34.697597  6.294732  44.898404   8123.999747   5.136077   \n",
              "50%     21.927381  40.243917  6.388511  47.473404  12305.595238   7.600905   \n",
              "75%     57.444542  49.491403  7.598144  49.482535  28988.908730   9.810293   \n",
              "max     92.961702  58.738889  8.807778  51.491667  45672.222222  12.019681   \n",
              "\n",
              "       life_expec  total_fer          gdpp  \n",
              "count    3.000000   3.000000      3.000000  \n",
              "mean    70.709766   3.022788  16967.759935  \n",
              "std     10.627716   1.741546  22224.229996  \n",
              "min     59.187234   1.752778   1922.382979  \n",
              "25%     66.000760   2.030139   4204.417680  \n",
              "50%     72.814286   2.307500   6486.452381  \n",
              "75%     76.471032   3.657793  24490.448413  \n",
              "max     80.127778   5.008085  42494.444444  "
            ]
          },
          "execution_count": 74,
          "metadata": {},
          "output_type": "execute_result"
        }
      ],
      "source": [
        "df.groupby('cluster_label').mean().describe()"
      ]
    },
    {
      "cell_type": "code",
      "execution_count": null,
      "metadata": {
        "id": "p95mV7te4qws",
        "outputId": "9e1852a2-ccd3-4acc-cd40-b35cc6fa9196"
      },
      "outputs": [
        {
          "data": {
            "text/html": [
              "<div>\n",
              "<style scoped>\n",
              "    .dataframe tbody tr th:only-of-type {\n",
              "        vertical-align: middle;\n",
              "    }\n",
              "\n",
              "    .dataframe tbody tr th {\n",
              "        vertical-align: top;\n",
              "    }\n",
              "\n",
              "    .dataframe thead tr th {\n",
              "        text-align: left;\n",
              "    }\n",
              "\n",
              "    .dataframe thead tr:last-of-type th {\n",
              "        text-align: right;\n",
              "    }\n",
              "</style>\n",
              "<table border=\"1\" class=\"dataframe\">\n",
              "  <thead>\n",
              "    <tr>\n",
              "      <th></th>\n",
              "      <th colspan=\"8\" halign=\"left\">child_mort</th>\n",
              "      <th colspan=\"2\" halign=\"left\">exports</th>\n",
              "      <th>...</th>\n",
              "      <th colspan=\"2\" halign=\"left\">total_fer</th>\n",
              "      <th colspan=\"8\" halign=\"left\">gdpp</th>\n",
              "    </tr>\n",
              "    <tr>\n",
              "      <th></th>\n",
              "      <th>count</th>\n",
              "      <th>mean</th>\n",
              "      <th>std</th>\n",
              "      <th>min</th>\n",
              "      <th>25%</th>\n",
              "      <th>50%</th>\n",
              "      <th>75%</th>\n",
              "      <th>max</th>\n",
              "      <th>count</th>\n",
              "      <th>mean</th>\n",
              "      <th>...</th>\n",
              "      <th>75%</th>\n",
              "      <th>max</th>\n",
              "      <th>count</th>\n",
              "      <th>mean</th>\n",
              "      <th>std</th>\n",
              "      <th>min</th>\n",
              "      <th>25%</th>\n",
              "      <th>50%</th>\n",
              "      <th>75%</th>\n",
              "      <th>max</th>\n",
              "    </tr>\n",
              "    <tr>\n",
              "      <th>cluster_label</th>\n",
              "      <th></th>\n",
              "      <th></th>\n",
              "      <th></th>\n",
              "      <th></th>\n",
              "      <th></th>\n",
              "      <th></th>\n",
              "      <th></th>\n",
              "      <th></th>\n",
              "      <th></th>\n",
              "      <th></th>\n",
              "      <th></th>\n",
              "      <th></th>\n",
              "      <th></th>\n",
              "      <th></th>\n",
              "      <th></th>\n",
              "      <th></th>\n",
              "      <th></th>\n",
              "      <th></th>\n",
              "      <th></th>\n",
              "      <th></th>\n",
              "      <th></th>\n",
              "    </tr>\n",
              "  </thead>\n",
              "  <tbody>\n",
              "    <tr>\n",
              "      <th>0</th>\n",
              "      <td>47.0</td>\n",
              "      <td>92.961702</td>\n",
              "      <td>33.375229</td>\n",
              "      <td>36.9</td>\n",
              "      <td>63.80</td>\n",
              "      <td>90.20</td>\n",
              "      <td>111.00</td>\n",
              "      <td>208.0</td>\n",
              "      <td>47.0</td>\n",
              "      <td>29.151277</td>\n",
              "      <td>...</td>\n",
              "      <td>5.6350</td>\n",
              "      <td>7.49</td>\n",
              "      <td>47.0</td>\n",
              "      <td>1922.382979</td>\n",
              "      <td>2956.103925</td>\n",
              "      <td>231.0</td>\n",
              "      <td>550.0</td>\n",
              "      <td>897.0</td>\n",
              "      <td>1470.0</td>\n",
              "      <td>17100.0</td>\n",
              "    </tr>\n",
              "    <tr>\n",
              "      <th>1</th>\n",
              "      <td>36.0</td>\n",
              "      <td>5.000000</td>\n",
              "      <td>2.188933</td>\n",
              "      <td>2.6</td>\n",
              "      <td>3.55</td>\n",
              "      <td>4.20</td>\n",
              "      <td>5.75</td>\n",
              "      <td>10.8</td>\n",
              "      <td>36.0</td>\n",
              "      <td>58.738889</td>\n",
              "      <td>...</td>\n",
              "      <td>1.9575</td>\n",
              "      <td>3.03</td>\n",
              "      <td>36.0</td>\n",
              "      <td>42494.444444</td>\n",
              "      <td>18991.079777</td>\n",
              "      <td>16600.0</td>\n",
              "      <td>30675.0</td>\n",
              "      <td>41200.0</td>\n",
              "      <td>48475.0</td>\n",
              "      <td>105000.0</td>\n",
              "    </tr>\n",
              "    <tr>\n",
              "      <th>2</th>\n",
              "      <td>84.0</td>\n",
              "      <td>21.927381</td>\n",
              "      <td>13.757919</td>\n",
              "      <td>4.5</td>\n",
              "      <td>11.65</td>\n",
              "      <td>18.35</td>\n",
              "      <td>28.35</td>\n",
              "      <td>64.4</td>\n",
              "      <td>84.0</td>\n",
              "      <td>40.243917</td>\n",
              "      <td>...</td>\n",
              "      <td>2.6625</td>\n",
              "      <td>4.34</td>\n",
              "      <td>84.0</td>\n",
              "      <td>6486.452381</td>\n",
              "      <td>5021.434052</td>\n",
              "      <td>592.0</td>\n",
              "      <td>2967.5</td>\n",
              "      <td>4670.0</td>\n",
              "      <td>9070.0</td>\n",
              "      <td>28000.0</td>\n",
              "    </tr>\n",
              "  </tbody>\n",
              "</table>\n",
              "<p>3 rows × 72 columns</p>\n",
              "</div>"
            ],
            "text/plain": [
              "              child_mort                                                    \\\n",
              "                   count       mean        std   min    25%    50%     75%   \n",
              "cluster_label                                                                \n",
              "0                   47.0  92.961702  33.375229  36.9  63.80  90.20  111.00   \n",
              "1                   36.0   5.000000   2.188933   2.6   3.55   4.20    5.75   \n",
              "2                   84.0  21.927381  13.757919   4.5  11.65  18.35   28.35   \n",
              "\n",
              "                     exports             ... total_fer        gdpp  \\\n",
              "                 max   count       mean  ...       75%   max count   \n",
              "cluster_label                            ...                         \n",
              "0              208.0    47.0  29.151277  ...    5.6350  7.49  47.0   \n",
              "1               10.8    36.0  58.738889  ...    1.9575  3.03  36.0   \n",
              "2               64.4    84.0  40.243917  ...    2.6625  4.34  84.0   \n",
              "\n",
              "                                                                               \\\n",
              "                       mean           std      min      25%      50%      75%   \n",
              "cluster_label                                                                   \n",
              "0               1922.382979   2956.103925    231.0    550.0    897.0   1470.0   \n",
              "1              42494.444444  18991.079777  16600.0  30675.0  41200.0  48475.0   \n",
              "2               6486.452381   5021.434052    592.0   2967.5   4670.0   9070.0   \n",
              "\n",
              "                         \n",
              "                    max  \n",
              "cluster_label            \n",
              "0               17100.0  \n",
              "1              105000.0  \n",
              "2               28000.0  \n",
              "\n",
              "[3 rows x 72 columns]"
            ]
          },
          "execution_count": 80,
          "metadata": {},
          "output_type": "execute_result"
        }
      ],
      "source": [
        "df.groupby('cluster_label').describe()"
      ]
    },
    {
      "cell_type": "markdown",
      "metadata": {
        "id": "x_rQZjMrUKY8"
      },
      "source": [
        "# Q7.) Write an observation about the descriptive statistics."
      ]
    },
    {
      "cell_type": "markdown",
      "metadata": {
        "id": "7MOo8dEeTIOc"
      },
      "source": [
        "There is more variation in the distribution of cluster 1 countries with respect to child mortality, especially compared to cluster 0 countries. However, this relationship is reversed with the variation in the distribution with respect to GDP per capita.  The variation in per capita GDP is much greater in cluster 0 countries."
      ]
    },
    {
      "cell_type": "code",
      "execution_count": null,
      "metadata": {
        "id": "eo-GQ-8W4qwt",
        "outputId": "0263e4ae-56f0-4813-bdda-864deacebce9"
      },
      "outputs": [
        {
          "name": "stdout",
          "output_type": "stream",
          "text": [
            "Cluster 0 child mortality variation as percent of mean (std/mean): 35.9% \n",
            "Cluster 1 child mortality variation as percent of mean (std/mean): 43.8%\n"
          ]
        }
      ],
      "source": [
        "n='\\n'\n",
        "print(f'Cluster 0 child mortality variation as percent of mean (std/mean): {(round(33.375229/92.961702,3)*100)}% {n}Cluster 1 child mortality variation as percent of mean (std/mean): {(round(2.188933/5.000000,3)*100)}%')"
      ]
    },
    {
      "cell_type": "code",
      "execution_count": null,
      "metadata": {
        "id": "1Fnly_3J4qwt",
        "outputId": "fe92e1e4-245a-4a10-909b-990286e0d1a6"
      },
      "outputs": [
        {
          "name": "stdout",
          "output_type": "stream",
          "text": [
            "Cluster 0 GDP per capita variation as percent of mean (std/mean): 153.8%\n",
            "Cluster 1 GDP per capita variation as percent of mean (std/mean): 44.7%\n"
          ]
        }
      ],
      "source": [
        "print(f'Cluster 0 GDP per capita variation as percent of mean (std/mean): {(round(2956.103925/1922.382979,3)*100)}%{n}Cluster 1 GDP per capita variation as percent of mean (std/mean): {(round(18991.079777/42494.444444,3)*100)}%')"
      ]
    }
  ],
  "metadata": {
    "colab": {
      "provenance": [],
      "include_colab_link": true
    },
    "kernelspec": {
      "display_name": "Python 3 (ipykernel)",
      "language": "python",
      "name": "python3"
    },
    "language_info": {
      "codemirror_mode": {
        "name": "ipython",
        "version": 3
      },
      "file_extension": ".py",
      "mimetype": "text/x-python",
      "name": "python",
      "nbconvert_exporter": "python",
      "pygments_lexer": "ipython3",
      "version": "3.9.6"
    }
  },
  "nbformat": 4,
  "nbformat_minor": 0
}