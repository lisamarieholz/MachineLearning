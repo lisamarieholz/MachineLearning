{
 "cells": [
  {
   "cell_type": "markdown",
   "metadata": {
    "id": "7ywSRtNI4s5h"
   },
   "source": [
    "# 1.) Import the Credit Card Fraud Data From CCLE"
   ]
  },
  {
   "cell_type": "code",
   "execution_count": 6,
   "metadata": {
    "executionInfo": {
     "elapsed": 245,
     "status": "ok",
     "timestamp": 1674872744644,
     "user": {
      "displayName": "Mohammed",
      "userId": "05482709744935226545"
     },
     "user_tz": 480
    },
    "id": "nsG1QV154GYZ"
   },
   "outputs": [],
   "source": [
    "import pandas as pd\n",
    "import matplotlib.pyplot as plt\n",
    "import numpy as np"
   ]
  },
  {
   "cell_type": "code",
   "execution_count": 7,
   "metadata": {
    "colab": {
     "base_uri": "https://localhost:8080/",
     "height": 311
    },
    "executionInfo": {
     "elapsed": 29,
     "status": "error",
     "timestamp": 1674872747762,
     "user": {
      "displayName": "Mohammed",
      "userId": "05482709744935226545"
     },
     "user_tz": 480
    },
    "id": "KJQfo8mz43Kz",
    "outputId": "e5b97b2c-6995-4622-9203-60a6dd56f686"
   },
   "outputs": [],
   "source": [
    "df = pd.read_csv(r\"fraudTest.csv\")"
   ]
  },
  {
   "cell_type": "code",
   "execution_count": 8,
   "metadata": {
    "executionInfo": {
     "elapsed": 26,
     "status": "aborted",
     "timestamp": 1674872747763,
     "user": {
      "displayName": "Mohammed",
      "userId": "05482709744935226545"
     },
     "user_tz": 480
    },
    "id": "GidGzL-LB8Ve"
   },
   "outputs": [
    {
     "data": {
      "text/plain": [
       "Unnamed: 0               0\n",
       "trans_date_trans_time    0\n",
       "cc_num                   0\n",
       "merchant                 0\n",
       "category                 0\n",
       "amt                      0\n",
       "first                    0\n",
       "last                     0\n",
       "gender                   0\n",
       "street                   0\n",
       "city                     0\n",
       "state                    0\n",
       "zip                      0\n",
       "lat                      0\n",
       "long                     0\n",
       "city_pop                 0\n",
       "job                      0\n",
       "dob                      0\n",
       "trans_num                0\n",
       "unix_time                0\n",
       "merch_lat                0\n",
       "merch_long               0\n",
       "is_fraud                 0\n",
       "dtype: int64"
      ]
     },
     "execution_count": 8,
     "metadata": {},
     "output_type": "execute_result"
    }
   ],
   "source": [
    "df.isna().sum()"
   ]
  },
  {
   "cell_type": "code",
   "execution_count": 9,
   "metadata": {
    "executionInfo": {
     "elapsed": 25,
     "status": "aborted",
     "timestamp": 1674872747763,
     "user": {
      "displayName": "Mohammed",
      "userId": "05482709744935226545"
     },
     "user_tz": 480
    },
    "id": "mKWSRv-q98wE"
   },
   "outputs": [
    {
     "data": {
      "text/html": [
       "<div>\n",
       "<style scoped>\n",
       "    .dataframe tbody tr th:only-of-type {\n",
       "        vertical-align: middle;\n",
       "    }\n",
       "\n",
       "    .dataframe tbody tr th {\n",
       "        vertical-align: top;\n",
       "    }\n",
       "\n",
       "    .dataframe thead th {\n",
       "        text-align: right;\n",
       "    }\n",
       "</style>\n",
       "<table border=\"1\" class=\"dataframe\">\n",
       "  <thead>\n",
       "    <tr style=\"text-align: right;\">\n",
       "      <th></th>\n",
       "      <th>Unnamed: 0</th>\n",
       "      <th>trans_date_trans_time</th>\n",
       "      <th>cc_num</th>\n",
       "      <th>merchant</th>\n",
       "      <th>category</th>\n",
       "      <th>amt</th>\n",
       "      <th>first</th>\n",
       "      <th>last</th>\n",
       "      <th>gender</th>\n",
       "      <th>street</th>\n",
       "      <th>...</th>\n",
       "      <th>lat</th>\n",
       "      <th>long</th>\n",
       "      <th>city_pop</th>\n",
       "      <th>job</th>\n",
       "      <th>dob</th>\n",
       "      <th>trans_num</th>\n",
       "      <th>unix_time</th>\n",
       "      <th>merch_lat</th>\n",
       "      <th>merch_long</th>\n",
       "      <th>is_fraud</th>\n",
       "    </tr>\n",
       "  </thead>\n",
       "  <tbody>\n",
       "    <tr>\n",
       "      <th>0</th>\n",
       "      <td>0</td>\n",
       "      <td>2020-06-21 12:14:25</td>\n",
       "      <td>2291163933867244</td>\n",
       "      <td>fraud_Kirlin and Sons</td>\n",
       "      <td>personal_care</td>\n",
       "      <td>2.86</td>\n",
       "      <td>Jeff</td>\n",
       "      <td>Elliott</td>\n",
       "      <td>M</td>\n",
       "      <td>351 Darlene Green</td>\n",
       "      <td>...</td>\n",
       "      <td>33.9659</td>\n",
       "      <td>-80.9355</td>\n",
       "      <td>333497</td>\n",
       "      <td>Mechanical engineer</td>\n",
       "      <td>1968-03-19</td>\n",
       "      <td>2da90c7d74bd46a0caf3777415b3ebd3</td>\n",
       "      <td>1371816865</td>\n",
       "      <td>33.986391</td>\n",
       "      <td>-81.200714</td>\n",
       "      <td>0</td>\n",
       "    </tr>\n",
       "    <tr>\n",
       "      <th>1</th>\n",
       "      <td>1</td>\n",
       "      <td>2020-06-21 12:14:33</td>\n",
       "      <td>3573030041201292</td>\n",
       "      <td>fraud_Sporer-Keebler</td>\n",
       "      <td>personal_care</td>\n",
       "      <td>29.84</td>\n",
       "      <td>Joanne</td>\n",
       "      <td>Williams</td>\n",
       "      <td>F</td>\n",
       "      <td>3638 Marsh Union</td>\n",
       "      <td>...</td>\n",
       "      <td>40.3207</td>\n",
       "      <td>-110.4360</td>\n",
       "      <td>302</td>\n",
       "      <td>Sales professional, IT</td>\n",
       "      <td>1990-01-17</td>\n",
       "      <td>324cc204407e99f51b0d6ca0055005e7</td>\n",
       "      <td>1371816873</td>\n",
       "      <td>39.450498</td>\n",
       "      <td>-109.960431</td>\n",
       "      <td>0</td>\n",
       "    </tr>\n",
       "    <tr>\n",
       "      <th>2</th>\n",
       "      <td>2</td>\n",
       "      <td>2020-06-21 12:14:53</td>\n",
       "      <td>3598215285024754</td>\n",
       "      <td>fraud_Swaniawski, Nitzsche and Welch</td>\n",
       "      <td>health_fitness</td>\n",
       "      <td>41.28</td>\n",
       "      <td>Ashley</td>\n",
       "      <td>Lopez</td>\n",
       "      <td>F</td>\n",
       "      <td>9333 Valentine Point</td>\n",
       "      <td>...</td>\n",
       "      <td>40.6729</td>\n",
       "      <td>-73.5365</td>\n",
       "      <td>34496</td>\n",
       "      <td>Librarian, public</td>\n",
       "      <td>1970-10-21</td>\n",
       "      <td>c81755dbbbea9d5c77f094348a7579be</td>\n",
       "      <td>1371816893</td>\n",
       "      <td>40.495810</td>\n",
       "      <td>-74.196111</td>\n",
       "      <td>0</td>\n",
       "    </tr>\n",
       "    <tr>\n",
       "      <th>3</th>\n",
       "      <td>3</td>\n",
       "      <td>2020-06-21 12:15:15</td>\n",
       "      <td>3591919803438423</td>\n",
       "      <td>fraud_Haley Group</td>\n",
       "      <td>misc_pos</td>\n",
       "      <td>60.05</td>\n",
       "      <td>Brian</td>\n",
       "      <td>Williams</td>\n",
       "      <td>M</td>\n",
       "      <td>32941 Krystal Mill Apt. 552</td>\n",
       "      <td>...</td>\n",
       "      <td>28.5697</td>\n",
       "      <td>-80.8191</td>\n",
       "      <td>54767</td>\n",
       "      <td>Set designer</td>\n",
       "      <td>1987-07-25</td>\n",
       "      <td>2159175b9efe66dc301f149d3d5abf8c</td>\n",
       "      <td>1371816915</td>\n",
       "      <td>28.812398</td>\n",
       "      <td>-80.883061</td>\n",
       "      <td>0</td>\n",
       "    </tr>\n",
       "    <tr>\n",
       "      <th>4</th>\n",
       "      <td>4</td>\n",
       "      <td>2020-06-21 12:15:17</td>\n",
       "      <td>3526826139003047</td>\n",
       "      <td>fraud_Johnston-Casper</td>\n",
       "      <td>travel</td>\n",
       "      <td>3.19</td>\n",
       "      <td>Nathan</td>\n",
       "      <td>Massey</td>\n",
       "      <td>M</td>\n",
       "      <td>5783 Evan Roads Apt. 465</td>\n",
       "      <td>...</td>\n",
       "      <td>44.2529</td>\n",
       "      <td>-85.0170</td>\n",
       "      <td>1126</td>\n",
       "      <td>Furniture designer</td>\n",
       "      <td>1955-07-06</td>\n",
       "      <td>57ff021bd3f328f8738bb535c302a31b</td>\n",
       "      <td>1371816917</td>\n",
       "      <td>44.959148</td>\n",
       "      <td>-85.884734</td>\n",
       "      <td>0</td>\n",
       "    </tr>\n",
       "  </tbody>\n",
       "</table>\n",
       "<p>5 rows × 23 columns</p>\n",
       "</div>"
      ],
      "text/plain": [
       "   Unnamed: 0 trans_date_trans_time            cc_num  \\\n",
       "0           0   2020-06-21 12:14:25  2291163933867244   \n",
       "1           1   2020-06-21 12:14:33  3573030041201292   \n",
       "2           2   2020-06-21 12:14:53  3598215285024754   \n",
       "3           3   2020-06-21 12:15:15  3591919803438423   \n",
       "4           4   2020-06-21 12:15:17  3526826139003047   \n",
       "\n",
       "                               merchant        category    amt   first  \\\n",
       "0                 fraud_Kirlin and Sons   personal_care   2.86    Jeff   \n",
       "1                  fraud_Sporer-Keebler   personal_care  29.84  Joanne   \n",
       "2  fraud_Swaniawski, Nitzsche and Welch  health_fitness  41.28  Ashley   \n",
       "3                     fraud_Haley Group        misc_pos  60.05   Brian   \n",
       "4                 fraud_Johnston-Casper          travel   3.19  Nathan   \n",
       "\n",
       "       last gender                       street  ...      lat      long  \\\n",
       "0   Elliott      M            351 Darlene Green  ...  33.9659  -80.9355   \n",
       "1  Williams      F             3638 Marsh Union  ...  40.3207 -110.4360   \n",
       "2     Lopez      F         9333 Valentine Point  ...  40.6729  -73.5365   \n",
       "3  Williams      M  32941 Krystal Mill Apt. 552  ...  28.5697  -80.8191   \n",
       "4    Massey      M     5783 Evan Roads Apt. 465  ...  44.2529  -85.0170   \n",
       "\n",
       "   city_pop                     job         dob  \\\n",
       "0    333497     Mechanical engineer  1968-03-19   \n",
       "1       302  Sales professional, IT  1990-01-17   \n",
       "2     34496       Librarian, public  1970-10-21   \n",
       "3     54767            Set designer  1987-07-25   \n",
       "4      1126      Furniture designer  1955-07-06   \n",
       "\n",
       "                          trans_num   unix_time  merch_lat  merch_long  \\\n",
       "0  2da90c7d74bd46a0caf3777415b3ebd3  1371816865  33.986391  -81.200714   \n",
       "1  324cc204407e99f51b0d6ca0055005e7  1371816873  39.450498 -109.960431   \n",
       "2  c81755dbbbea9d5c77f094348a7579be  1371816893  40.495810  -74.196111   \n",
       "3  2159175b9efe66dc301f149d3d5abf8c  1371816915  28.812398  -80.883061   \n",
       "4  57ff021bd3f328f8738bb535c302a31b  1371816917  44.959148  -85.884734   \n",
       "\n",
       "   is_fraud  \n",
       "0         0  \n",
       "1         0  \n",
       "2         0  \n",
       "3         0  \n",
       "4         0  \n",
       "\n",
       "[5 rows x 23 columns]"
      ]
     },
     "execution_count": 9,
     "metadata": {},
     "output_type": "execute_result"
    }
   ],
   "source": [
    "df.head()"
   ]
  },
  {
   "cell_type": "code",
   "execution_count": 10,
   "metadata": {
    "executionInfo": {
     "elapsed": 24,
     "status": "aborted",
     "timestamp": 1674872747763,
     "user": {
      "displayName": "Mohammed",
      "userId": "05482709744935226545"
     },
     "user_tz": 480
    },
    "id": "2_YuJa4IFKda"
   },
   "outputs": [
    {
     "data": {
      "text/plain": [
       "Index(['Unnamed: 0', 'trans_date_trans_time', 'cc_num', 'merchant', 'category',\n",
       "       'amt', 'first', 'last', 'gender', 'street', 'city', 'state', 'zip',\n",
       "       'lat', 'long', 'city_pop', 'job', 'dob', 'trans_num', 'unix_time',\n",
       "       'merch_lat', 'merch_long', 'is_fraud'],\n",
       "      dtype='object')"
      ]
     },
     "execution_count": 10,
     "metadata": {},
     "output_type": "execute_result"
    }
   ],
   "source": [
    "df.columns"
   ]
  },
  {
   "cell_type": "code",
   "execution_count": 11,
   "metadata": {
    "executionInfo": {
     "elapsed": 25,
     "status": "aborted",
     "timestamp": 1674872747764,
     "user": {
      "displayName": "Mohammed",
      "userId": "05482709744935226545"
     },
     "user_tz": 480
    },
    "id": "anyK2ry5Gd8G"
   },
   "outputs": [
    {
     "data": {
      "text/plain": [
       "0         2020-06-21 12:14:25\n",
       "1         2020-06-21 12:14:33\n",
       "2         2020-06-21 12:14:53\n",
       "3         2020-06-21 12:15:15\n",
       "4         2020-06-21 12:15:17\n",
       "                 ...         \n",
       "555714    2020-12-31 23:59:07\n",
       "555715    2020-12-31 23:59:09\n",
       "555716    2020-12-31 23:59:15\n",
       "555717    2020-12-31 23:59:24\n",
       "555718    2020-12-31 23:59:34\n",
       "Name: trans_date_trans_time, Length: 555719, dtype: object"
      ]
     },
     "execution_count": 11,
     "metadata": {},
     "output_type": "execute_result"
    }
   ],
   "source": [
    "df['trans_date_trans_time']"
   ]
  },
  {
   "cell_type": "markdown",
   "metadata": {
    "id": "8VsnpGe9-B3p"
   },
   "source": [
    "# 2.) Select four columns to use as features (one just be trans_date_trans)"
   ]
  },
  {
   "cell_type": "code",
   "execution_count": 12,
   "metadata": {
    "executionInfo": {
     "elapsed": 24,
     "status": "aborted",
     "timestamp": 1674872747764,
     "user": {
      "displayName": "Mohammed",
      "userId": "05482709744935226545"
     },
     "user_tz": 480
    },
    "id": "1tpCDMW198ym"
   },
   "outputs": [],
   "source": [
    "df_select = df[[\"trans_date_trans_time\", \"category\", \"amt\", \"city_pop\", \"is_fraud\"]]"
   ]
  },
  {
   "cell_type": "code",
   "execution_count": 13,
   "metadata": {
    "executionInfo": {
     "elapsed": 24,
     "status": "aborted",
     "timestamp": 1674872747764,
     "user": {
      "displayName": "Mohammed",
      "userId": "05482709744935226545"
     },
     "user_tz": 480
    },
    "id": "FZvnpERK981d"
   },
   "outputs": [
    {
     "data": {
      "text/plain": [
       "Index(['trans_date_trans_time', 'category', 'amt', 'city_pop', 'is_fraud'], dtype='object')"
      ]
     },
     "execution_count": 13,
     "metadata": {},
     "output_type": "execute_result"
    }
   ],
   "source": [
    "df_select.columns"
   ]
  },
  {
   "cell_type": "markdown",
   "metadata": {
    "id": "lbkpNPyN-Gnk"
   },
   "source": [
    "# 3.) Create a your own variable out of trans_date. Create dummies for factor vars"
   ]
  },
  {
   "cell_type": "code",
   "execution_count": 14,
   "metadata": {
    "executionInfo": {
     "elapsed": 23,
     "status": "aborted",
     "timestamp": 1674872747765,
     "user": {
      "displayName": "Mohammed",
      "userId": "05482709744935226545"
     },
     "user_tz": 480
    },
    "id": "gG88uxbiV4lZ"
   },
   "outputs": [
    {
     "data": {
      "text/plain": [
       "str"
      ]
     },
     "execution_count": 14,
     "metadata": {},
     "output_type": "execute_result"
    }
   ],
   "source": [
    "type(df_select[\"trans_date_trans_time\"][0])"
   ]
  },
  {
   "cell_type": "code",
   "execution_count": 15,
   "metadata": {
    "executionInfo": {
     "elapsed": 22,
     "status": "aborted",
     "timestamp": 1674872747765,
     "user": {
      "displayName": "Mohammed",
      "userId": "05482709744935226545"
     },
     "user_tz": 480
    },
    "id": "cNu6ysyV988v"
   },
   "outputs": [
    {
     "name": "stderr",
     "output_type": "stream",
     "text": [
      "C:\\Users\\lisam\\AppData\\Local\\Temp\\ipykernel_11212\\2067604160.py:1: SettingWithCopyWarning: \n",
      "A value is trying to be set on a copy of a slice from a DataFrame.\n",
      "Try using .loc[row_indexer,col_indexer] = value instead\n",
      "\n",
      "See the caveats in the documentation: https://pandas.pydata.org/pandas-docs/stable/user_guide/indexing.html#returning-a-view-versus-a-copy\n",
      "  df_select[\"trans_date_trans_time\"] = pd.to_datetime(df_select[\"trans_date_trans_time\"])\n"
     ]
    }
   ],
   "source": [
    "df_select[\"trans_date_trans_time\"] = pd.to_datetime(df_select[\"trans_date_trans_time\"])"
   ]
  },
  {
   "cell_type": "code",
   "execution_count": 16,
   "metadata": {
    "executionInfo": {
     "elapsed": 22,
     "status": "aborted",
     "timestamp": 1674872747766,
     "user": {
      "displayName": "Mohammed",
      "userId": "05482709744935226545"
     },
     "user_tz": 480
    },
    "id": "p7AfstVYK8i7"
   },
   "outputs": [
    {
     "name": "stderr",
     "output_type": "stream",
     "text": [
      "C:\\Users\\lisam\\AppData\\Local\\Temp\\ipykernel_11212\\2539205381.py:1: SettingWithCopyWarning: \n",
      "A value is trying to be set on a copy of a slice from a DataFrame.\n",
      "Try using .loc[row_indexer,col_indexer] = value instead\n",
      "\n",
      "See the caveats in the documentation: https://pandas.pydata.org/pandas-docs/stable/user_guide/indexing.html#returning-a-view-versus-a-copy\n",
      "  df_select[\"time_var\"] = [1 if i.hour>=0 and i.hour<6 else 0 for i in df_select[\"trans_date_trans_time\"]] #a time_var that captures whether or not it is between midnight and 6am i.e. night or not\n"
     ]
    }
   ],
   "source": [
    "df_select[\"time_var\"] = [1 if i.hour>=0 and i.hour<6 else 0 for i in df_select[\"trans_date_trans_time\"]] #a time_var that captures whether or not it is between midnight and 6am i.e. night or not"
   ]
  },
  {
   "cell_type": "code",
   "execution_count": 17,
   "metadata": {
    "executionInfo": {
     "elapsed": 22,
     "status": "aborted",
     "timestamp": 1674872747766,
     "user": {
      "displayName": "Mohammed",
      "userId": "05482709744935226545"
     },
     "user_tz": 480
    },
    "id": "TjKb58ZbMyT2"
   },
   "outputs": [
    {
     "data": {
      "text/html": [
       "<div>\n",
       "<style scoped>\n",
       "    .dataframe tbody tr th:only-of-type {\n",
       "        vertical-align: middle;\n",
       "    }\n",
       "\n",
       "    .dataframe tbody tr th {\n",
       "        vertical-align: top;\n",
       "    }\n",
       "\n",
       "    .dataframe thead th {\n",
       "        text-align: right;\n",
       "    }\n",
       "</style>\n",
       "<table border=\"1\" class=\"dataframe\">\n",
       "  <thead>\n",
       "    <tr style=\"text-align: right;\">\n",
       "      <th></th>\n",
       "      <th>trans_date_trans_time</th>\n",
       "      <th>category</th>\n",
       "      <th>amt</th>\n",
       "      <th>city_pop</th>\n",
       "      <th>is_fraud</th>\n",
       "      <th>time_var</th>\n",
       "    </tr>\n",
       "  </thead>\n",
       "  <tbody>\n",
       "    <tr>\n",
       "      <th>0</th>\n",
       "      <td>2020-06-21 12:14:25</td>\n",
       "      <td>personal_care</td>\n",
       "      <td>2.86</td>\n",
       "      <td>333497</td>\n",
       "      <td>0</td>\n",
       "      <td>0</td>\n",
       "    </tr>\n",
       "    <tr>\n",
       "      <th>1</th>\n",
       "      <td>2020-06-21 12:14:33</td>\n",
       "      <td>personal_care</td>\n",
       "      <td>29.84</td>\n",
       "      <td>302</td>\n",
       "      <td>0</td>\n",
       "      <td>0</td>\n",
       "    </tr>\n",
       "    <tr>\n",
       "      <th>2</th>\n",
       "      <td>2020-06-21 12:14:53</td>\n",
       "      <td>health_fitness</td>\n",
       "      <td>41.28</td>\n",
       "      <td>34496</td>\n",
       "      <td>0</td>\n",
       "      <td>0</td>\n",
       "    </tr>\n",
       "    <tr>\n",
       "      <th>3</th>\n",
       "      <td>2020-06-21 12:15:15</td>\n",
       "      <td>misc_pos</td>\n",
       "      <td>60.05</td>\n",
       "      <td>54767</td>\n",
       "      <td>0</td>\n",
       "      <td>0</td>\n",
       "    </tr>\n",
       "    <tr>\n",
       "      <th>4</th>\n",
       "      <td>2020-06-21 12:15:17</td>\n",
       "      <td>travel</td>\n",
       "      <td>3.19</td>\n",
       "      <td>1126</td>\n",
       "      <td>0</td>\n",
       "      <td>0</td>\n",
       "    </tr>\n",
       "  </tbody>\n",
       "</table>\n",
       "</div>"
      ],
      "text/plain": [
       "  trans_date_trans_time        category    amt  city_pop  is_fraud  time_var\n",
       "0   2020-06-21 12:14:25   personal_care   2.86    333497         0         0\n",
       "1   2020-06-21 12:14:33   personal_care  29.84       302         0         0\n",
       "2   2020-06-21 12:14:53  health_fitness  41.28     34496         0         0\n",
       "3   2020-06-21 12:15:15        misc_pos  60.05     54767         0         0\n",
       "4   2020-06-21 12:15:17          travel   3.19      1126         0         0"
      ]
     },
     "execution_count": 17,
     "metadata": {},
     "output_type": "execute_result"
    }
   ],
   "source": [
    "df_select.head()"
   ]
  },
  {
   "cell_type": "code",
   "execution_count": 18,
   "metadata": {
    "executionInfo": {
     "elapsed": 22,
     "status": "aborted",
     "timestamp": 1674872747766,
     "user": {
      "displayName": "Mohammed",
      "userId": "05482709744935226545"
     },
     "user_tz": 480
    },
    "id": "bkfqhq4J99A6"
   },
   "outputs": [
    {
     "data": {
      "text/html": [
       "<div>\n",
       "<style scoped>\n",
       "    .dataframe tbody tr th:only-of-type {\n",
       "        vertical-align: middle;\n",
       "    }\n",
       "\n",
       "    .dataframe tbody tr th {\n",
       "        vertical-align: top;\n",
       "    }\n",
       "\n",
       "    .dataframe thead th {\n",
       "        text-align: right;\n",
       "    }\n",
       "</style>\n",
       "<table border=\"1\" class=\"dataframe\">\n",
       "  <thead>\n",
       "    <tr style=\"text-align: right;\">\n",
       "      <th></th>\n",
       "      <th>amt</th>\n",
       "      <th>city_pop</th>\n",
       "      <th>is_fraud</th>\n",
       "      <th>time_var</th>\n",
       "      <th>category_entertainment</th>\n",
       "      <th>category_food_dining</th>\n",
       "      <th>category_gas_transport</th>\n",
       "      <th>category_grocery_net</th>\n",
       "      <th>category_grocery_pos</th>\n",
       "      <th>category_health_fitness</th>\n",
       "      <th>category_home</th>\n",
       "      <th>category_kids_pets</th>\n",
       "      <th>category_misc_net</th>\n",
       "      <th>category_misc_pos</th>\n",
       "      <th>category_personal_care</th>\n",
       "      <th>category_shopping_net</th>\n",
       "      <th>category_shopping_pos</th>\n",
       "      <th>category_travel</th>\n",
       "    </tr>\n",
       "  </thead>\n",
       "  <tbody>\n",
       "    <tr>\n",
       "      <th>0</th>\n",
       "      <td>2.86</td>\n",
       "      <td>333497</td>\n",
       "      <td>0</td>\n",
       "      <td>0</td>\n",
       "      <td>0</td>\n",
       "      <td>0</td>\n",
       "      <td>0</td>\n",
       "      <td>0</td>\n",
       "      <td>0</td>\n",
       "      <td>0</td>\n",
       "      <td>0</td>\n",
       "      <td>0</td>\n",
       "      <td>0</td>\n",
       "      <td>0</td>\n",
       "      <td>1</td>\n",
       "      <td>0</td>\n",
       "      <td>0</td>\n",
       "      <td>0</td>\n",
       "    </tr>\n",
       "    <tr>\n",
       "      <th>1</th>\n",
       "      <td>29.84</td>\n",
       "      <td>302</td>\n",
       "      <td>0</td>\n",
       "      <td>0</td>\n",
       "      <td>0</td>\n",
       "      <td>0</td>\n",
       "      <td>0</td>\n",
       "      <td>0</td>\n",
       "      <td>0</td>\n",
       "      <td>0</td>\n",
       "      <td>0</td>\n",
       "      <td>0</td>\n",
       "      <td>0</td>\n",
       "      <td>0</td>\n",
       "      <td>1</td>\n",
       "      <td>0</td>\n",
       "      <td>0</td>\n",
       "      <td>0</td>\n",
       "    </tr>\n",
       "    <tr>\n",
       "      <th>2</th>\n",
       "      <td>41.28</td>\n",
       "      <td>34496</td>\n",
       "      <td>0</td>\n",
       "      <td>0</td>\n",
       "      <td>0</td>\n",
       "      <td>0</td>\n",
       "      <td>0</td>\n",
       "      <td>0</td>\n",
       "      <td>0</td>\n",
       "      <td>1</td>\n",
       "      <td>0</td>\n",
       "      <td>0</td>\n",
       "      <td>0</td>\n",
       "      <td>0</td>\n",
       "      <td>0</td>\n",
       "      <td>0</td>\n",
       "      <td>0</td>\n",
       "      <td>0</td>\n",
       "    </tr>\n",
       "    <tr>\n",
       "      <th>3</th>\n",
       "      <td>60.05</td>\n",
       "      <td>54767</td>\n",
       "      <td>0</td>\n",
       "      <td>0</td>\n",
       "      <td>0</td>\n",
       "      <td>0</td>\n",
       "      <td>0</td>\n",
       "      <td>0</td>\n",
       "      <td>0</td>\n",
       "      <td>0</td>\n",
       "      <td>0</td>\n",
       "      <td>0</td>\n",
       "      <td>0</td>\n",
       "      <td>1</td>\n",
       "      <td>0</td>\n",
       "      <td>0</td>\n",
       "      <td>0</td>\n",
       "      <td>0</td>\n",
       "    </tr>\n",
       "    <tr>\n",
       "      <th>4</th>\n",
       "      <td>3.19</td>\n",
       "      <td>1126</td>\n",
       "      <td>0</td>\n",
       "      <td>0</td>\n",
       "      <td>0</td>\n",
       "      <td>0</td>\n",
       "      <td>0</td>\n",
       "      <td>0</td>\n",
       "      <td>0</td>\n",
       "      <td>0</td>\n",
       "      <td>0</td>\n",
       "      <td>0</td>\n",
       "      <td>0</td>\n",
       "      <td>0</td>\n",
       "      <td>0</td>\n",
       "      <td>0</td>\n",
       "      <td>0</td>\n",
       "      <td>1</td>\n",
       "    </tr>\n",
       "  </tbody>\n",
       "</table>\n",
       "</div>"
      ],
      "text/plain": [
       "     amt  city_pop  is_fraud  time_var  category_entertainment  \\\n",
       "0   2.86    333497         0         0                       0   \n",
       "1  29.84       302         0         0                       0   \n",
       "2  41.28     34496         0         0                       0   \n",
       "3  60.05     54767         0         0                       0   \n",
       "4   3.19      1126         0         0                       0   \n",
       "\n",
       "   category_food_dining  category_gas_transport  category_grocery_net  \\\n",
       "0                     0                       0                     0   \n",
       "1                     0                       0                     0   \n",
       "2                     0                       0                     0   \n",
       "3                     0                       0                     0   \n",
       "4                     0                       0                     0   \n",
       "\n",
       "   category_grocery_pos  category_health_fitness  category_home  \\\n",
       "0                     0                        0              0   \n",
       "1                     0                        0              0   \n",
       "2                     0                        1              0   \n",
       "3                     0                        0              0   \n",
       "4                     0                        0              0   \n",
       "\n",
       "   category_kids_pets  category_misc_net  category_misc_pos  \\\n",
       "0                   0                  0                  0   \n",
       "1                   0                  0                  0   \n",
       "2                   0                  0                  0   \n",
       "3                   0                  0                  1   \n",
       "4                   0                  0                  0   \n",
       "\n",
       "   category_personal_care  category_shopping_net  category_shopping_pos  \\\n",
       "0                       1                      0                      0   \n",
       "1                       1                      0                      0   \n",
       "2                       0                      0                      0   \n",
       "3                       0                      0                      0   \n",
       "4                       0                      0                      0   \n",
       "\n",
       "   category_travel  \n",
       "0                0  \n",
       "1                0  \n",
       "2                0  \n",
       "3                0  \n",
       "4                1  "
      ]
     },
     "execution_count": 18,
     "metadata": {},
     "output_type": "execute_result"
    }
   ],
   "source": [
    "orig_sample = pd.get_dummies(df_select, [\"category\"]).drop([\"trans_date_trans_time\"], axis = 1)\n",
    "orig_sample.head()"
   ]
  },
  {
   "cell_type": "code",
   "execution_count": null,
   "metadata": {
    "executionInfo": {
     "elapsed": 21,
     "status": "aborted",
     "timestamp": 1674872747767,
     "user": {
      "displayName": "Mohammed",
      "userId": "05482709744935226545"
     },
     "user_tz": 480
    },
    "id": "D7n_cImg99F3"
   },
   "outputs": [],
   "source": []
  },
  {
   "cell_type": "markdown",
   "metadata": {
    "id": "bIJx2jvD-KEI"
   },
   "source": [
    "## 4.) Resampling (Extra Credit)"
   ]
  },
  {
   "cell_type": "code",
   "execution_count": 19,
   "metadata": {},
   "outputs": [],
   "source": [
    "from pandas.core.common import random_state\n",
    "from sklearn.utils import resample"
   ]
  },
  {
   "cell_type": "code",
   "execution_count": 20,
   "metadata": {
    "executionInfo": {
     "elapsed": 21,
     "status": "aborted",
     "timestamp": 1674872747767,
     "user": {
      "displayName": "Mohammed",
      "userId": "05482709744935226545"
     },
     "user_tz": 480
    },
    "id": "acKh5pD6yTBJ"
   },
   "outputs": [
    {
     "data": {
      "text/html": [
       "<div>\n",
       "<style scoped>\n",
       "    .dataframe tbody tr th:only-of-type {\n",
       "        vertical-align: middle;\n",
       "    }\n",
       "\n",
       "    .dataframe tbody tr th {\n",
       "        vertical-align: top;\n",
       "    }\n",
       "\n",
       "    .dataframe thead th {\n",
       "        text-align: right;\n",
       "    }\n",
       "</style>\n",
       "<table border=\"1\" class=\"dataframe\">\n",
       "  <thead>\n",
       "    <tr style=\"text-align: right;\">\n",
       "      <th></th>\n",
       "      <th>amt</th>\n",
       "      <th>city_pop</th>\n",
       "      <th>is_fraud</th>\n",
       "      <th>time_var</th>\n",
       "      <th>category_entertainment</th>\n",
       "      <th>category_food_dining</th>\n",
       "      <th>category_gas_transport</th>\n",
       "      <th>category_grocery_net</th>\n",
       "      <th>category_grocery_pos</th>\n",
       "      <th>category_health_fitness</th>\n",
       "      <th>category_home</th>\n",
       "      <th>category_kids_pets</th>\n",
       "      <th>category_misc_net</th>\n",
       "      <th>category_misc_pos</th>\n",
       "      <th>category_personal_care</th>\n",
       "      <th>category_shopping_net</th>\n",
       "      <th>category_shopping_pos</th>\n",
       "      <th>category_travel</th>\n",
       "    </tr>\n",
       "  </thead>\n",
       "  <tbody>\n",
       "    <tr>\n",
       "      <th>457053</th>\n",
       "      <td>1015.53</td>\n",
       "      <td>54767</td>\n",
       "      <td>1</td>\n",
       "      <td>0</td>\n",
       "      <td>0</td>\n",
       "      <td>0</td>\n",
       "      <td>0</td>\n",
       "      <td>0</td>\n",
       "      <td>0</td>\n",
       "      <td>0</td>\n",
       "      <td>0</td>\n",
       "      <td>0</td>\n",
       "      <td>1</td>\n",
       "      <td>0</td>\n",
       "      <td>0</td>\n",
       "      <td>0</td>\n",
       "      <td>0</td>\n",
       "      <td>0</td>\n",
       "    </tr>\n",
       "    <tr>\n",
       "      <th>89772</th>\n",
       "      <td>22.02</td>\n",
       "      <td>1228</td>\n",
       "      <td>1</td>\n",
       "      <td>0</td>\n",
       "      <td>0</td>\n",
       "      <td>0</td>\n",
       "      <td>0</td>\n",
       "      <td>0</td>\n",
       "      <td>0</td>\n",
       "      <td>0</td>\n",
       "      <td>0</td>\n",
       "      <td>1</td>\n",
       "      <td>0</td>\n",
       "      <td>0</td>\n",
       "      <td>0</td>\n",
       "      <td>0</td>\n",
       "      <td>0</td>\n",
       "      <td>0</td>\n",
       "    </tr>\n",
       "    <tr>\n",
       "      <th>138234</th>\n",
       "      <td>7.30</td>\n",
       "      <td>3395</td>\n",
       "      <td>1</td>\n",
       "      <td>1</td>\n",
       "      <td>0</td>\n",
       "      <td>0</td>\n",
       "      <td>1</td>\n",
       "      <td>0</td>\n",
       "      <td>0</td>\n",
       "      <td>0</td>\n",
       "      <td>0</td>\n",
       "      <td>0</td>\n",
       "      <td>0</td>\n",
       "      <td>0</td>\n",
       "      <td>0</td>\n",
       "      <td>0</td>\n",
       "      <td>0</td>\n",
       "      <td>0</td>\n",
       "    </tr>\n",
       "    <tr>\n",
       "      <th>343702</th>\n",
       "      <td>7.38</td>\n",
       "      <td>4720</td>\n",
       "      <td>1</td>\n",
       "      <td>1</td>\n",
       "      <td>0</td>\n",
       "      <td>0</td>\n",
       "      <td>0</td>\n",
       "      <td>0</td>\n",
       "      <td>0</td>\n",
       "      <td>0</td>\n",
       "      <td>0</td>\n",
       "      <td>0</td>\n",
       "      <td>0</td>\n",
       "      <td>1</td>\n",
       "      <td>0</td>\n",
       "      <td>0</td>\n",
       "      <td>0</td>\n",
       "      <td>0</td>\n",
       "    </tr>\n",
       "    <tr>\n",
       "      <th>354302</th>\n",
       "      <td>10.58</td>\n",
       "      <td>1360</td>\n",
       "      <td>1</td>\n",
       "      <td>1</td>\n",
       "      <td>0</td>\n",
       "      <td>0</td>\n",
       "      <td>1</td>\n",
       "      <td>0</td>\n",
       "      <td>0</td>\n",
       "      <td>0</td>\n",
       "      <td>0</td>\n",
       "      <td>0</td>\n",
       "      <td>0</td>\n",
       "      <td>0</td>\n",
       "      <td>0</td>\n",
       "      <td>0</td>\n",
       "      <td>0</td>\n",
       "      <td>0</td>\n",
       "    </tr>\n",
       "  </tbody>\n",
       "</table>\n",
       "</div>"
      ],
      "text/plain": [
       "            amt  city_pop  is_fraud  time_var  category_entertainment  \\\n",
       "457053  1015.53     54767         1         0                       0   \n",
       "89772     22.02      1228         1         0                       0   \n",
       "138234     7.30      3395         1         1                       0   \n",
       "343702     7.38      4720         1         1                       0   \n",
       "354302    10.58      1360         1         1                       0   \n",
       "\n",
       "        category_food_dining  category_gas_transport  category_grocery_net  \\\n",
       "457053                     0                       0                     0   \n",
       "89772                      0                       0                     0   \n",
       "138234                     0                       1                     0   \n",
       "343702                     0                       0                     0   \n",
       "354302                     0                       1                     0   \n",
       "\n",
       "        category_grocery_pos  category_health_fitness  category_home  \\\n",
       "457053                     0                        0              0   \n",
       "89772                      0                        0              0   \n",
       "138234                     0                        0              0   \n",
       "343702                     0                        0              0   \n",
       "354302                     0                        0              0   \n",
       "\n",
       "        category_kids_pets  category_misc_net  category_misc_pos  \\\n",
       "457053                   0                  1                  0   \n",
       "89772                    1                  0                  0   \n",
       "138234                   0                  0                  0   \n",
       "343702                   0                  0                  1   \n",
       "354302                   0                  0                  0   \n",
       "\n",
       "        category_personal_care  category_shopping_net  category_shopping_pos  \\\n",
       "457053                       0                      0                      0   \n",
       "89772                        0                      0                      0   \n",
       "138234                       0                      0                      0   \n",
       "343702                       0                      0                      0   \n",
       "354302                       0                      0                      0   \n",
       "\n",
       "        category_travel  \n",
       "457053                0  \n",
       "89772                 0  \n",
       "138234                0  \n",
       "343702                0  \n",
       "354302                0  "
      ]
     },
     "execution_count": 20,
     "metadata": {},
     "output_type": "execute_result"
    }
   ],
   "source": [
    "df_minority = orig_sample[orig_sample['is_fraud'] == 1]\n",
    "df_majority = orig_sample[orig_sample['is_fraud'] == 0]\n",
    "\n",
    "\n",
    "df_minority_upsampled = resample(df_minority, replace=True, n_samples = len(df_majority), random_state = 88)\n",
    "df_minority_upsampled.head()"
   ]
  },
  {
   "cell_type": "code",
   "execution_count": 21,
   "metadata": {
    "executionInfo": {
     "elapsed": 20,
     "status": "aborted",
     "timestamp": 1674872747767,
     "user": {
      "displayName": "Mohammed",
      "userId": "05482709744935226545"
     },
     "user_tz": 480
    },
    "id": "x1C94xJn9Gyq"
   },
   "outputs": [
    {
     "data": {
      "text/plain": [
       "553574"
      ]
     },
     "execution_count": 21,
     "metadata": {},
     "output_type": "execute_result"
    }
   ],
   "source": [
    "len(df_minority_upsampled)"
   ]
  },
  {
   "cell_type": "code",
   "execution_count": 22,
   "metadata": {
    "executionInfo": {
     "elapsed": 20,
     "status": "aborted",
     "timestamp": 1674872747767,
     "user": {
      "displayName": "Mohammed",
      "userId": "05482709744935226545"
     },
     "user_tz": 480
    },
    "id": "aeeaSesp9ifF"
   },
   "outputs": [
    {
     "data": {
      "text/plain": [
       "553574"
      ]
     },
     "execution_count": 22,
     "metadata": {},
     "output_type": "execute_result"
    }
   ],
   "source": [
    "len(df_majority)"
   ]
  },
  {
   "cell_type": "code",
   "execution_count": 23,
   "metadata": {
    "executionInfo": {
     "elapsed": 20,
     "status": "aborted",
     "timestamp": 1674872747768,
     "user": {
      "displayName": "Mohammed",
      "userId": "05482709744935226545"
     },
     "user_tz": 480
    },
    "id": "F8DCOxi49pGm"
   },
   "outputs": [
    {
     "data": {
      "text/html": [
       "<div>\n",
       "<style scoped>\n",
       "    .dataframe tbody tr th:only-of-type {\n",
       "        vertical-align: middle;\n",
       "    }\n",
       "\n",
       "    .dataframe tbody tr th {\n",
       "        vertical-align: top;\n",
       "    }\n",
       "\n",
       "    .dataframe thead th {\n",
       "        text-align: right;\n",
       "    }\n",
       "</style>\n",
       "<table border=\"1\" class=\"dataframe\">\n",
       "  <thead>\n",
       "    <tr style=\"text-align: right;\">\n",
       "      <th></th>\n",
       "      <th>amt</th>\n",
       "      <th>city_pop</th>\n",
       "      <th>is_fraud</th>\n",
       "      <th>time_var</th>\n",
       "      <th>category_entertainment</th>\n",
       "      <th>category_food_dining</th>\n",
       "      <th>category_gas_transport</th>\n",
       "      <th>category_grocery_net</th>\n",
       "      <th>category_grocery_pos</th>\n",
       "      <th>category_health_fitness</th>\n",
       "      <th>category_home</th>\n",
       "      <th>category_kids_pets</th>\n",
       "      <th>category_misc_net</th>\n",
       "      <th>category_misc_pos</th>\n",
       "      <th>category_personal_care</th>\n",
       "      <th>category_shopping_net</th>\n",
       "      <th>category_shopping_pos</th>\n",
       "      <th>category_travel</th>\n",
       "    </tr>\n",
       "  </thead>\n",
       "  <tbody>\n",
       "    <tr>\n",
       "      <th>0</th>\n",
       "      <td>1015.53</td>\n",
       "      <td>54767</td>\n",
       "      <td>1</td>\n",
       "      <td>0</td>\n",
       "      <td>0</td>\n",
       "      <td>0</td>\n",
       "      <td>0</td>\n",
       "      <td>0</td>\n",
       "      <td>0</td>\n",
       "      <td>0</td>\n",
       "      <td>0</td>\n",
       "      <td>0</td>\n",
       "      <td>1</td>\n",
       "      <td>0</td>\n",
       "      <td>0</td>\n",
       "      <td>0</td>\n",
       "      <td>0</td>\n",
       "      <td>0</td>\n",
       "    </tr>\n",
       "    <tr>\n",
       "      <th>1</th>\n",
       "      <td>22.02</td>\n",
       "      <td>1228</td>\n",
       "      <td>1</td>\n",
       "      <td>0</td>\n",
       "      <td>0</td>\n",
       "      <td>0</td>\n",
       "      <td>0</td>\n",
       "      <td>0</td>\n",
       "      <td>0</td>\n",
       "      <td>0</td>\n",
       "      <td>0</td>\n",
       "      <td>1</td>\n",
       "      <td>0</td>\n",
       "      <td>0</td>\n",
       "      <td>0</td>\n",
       "      <td>0</td>\n",
       "      <td>0</td>\n",
       "      <td>0</td>\n",
       "    </tr>\n",
       "    <tr>\n",
       "      <th>2</th>\n",
       "      <td>7.30</td>\n",
       "      <td>3395</td>\n",
       "      <td>1</td>\n",
       "      <td>1</td>\n",
       "      <td>0</td>\n",
       "      <td>0</td>\n",
       "      <td>1</td>\n",
       "      <td>0</td>\n",
       "      <td>0</td>\n",
       "      <td>0</td>\n",
       "      <td>0</td>\n",
       "      <td>0</td>\n",
       "      <td>0</td>\n",
       "      <td>0</td>\n",
       "      <td>0</td>\n",
       "      <td>0</td>\n",
       "      <td>0</td>\n",
       "      <td>0</td>\n",
       "    </tr>\n",
       "    <tr>\n",
       "      <th>3</th>\n",
       "      <td>7.38</td>\n",
       "      <td>4720</td>\n",
       "      <td>1</td>\n",
       "      <td>1</td>\n",
       "      <td>0</td>\n",
       "      <td>0</td>\n",
       "      <td>0</td>\n",
       "      <td>0</td>\n",
       "      <td>0</td>\n",
       "      <td>0</td>\n",
       "      <td>0</td>\n",
       "      <td>0</td>\n",
       "      <td>0</td>\n",
       "      <td>1</td>\n",
       "      <td>0</td>\n",
       "      <td>0</td>\n",
       "      <td>0</td>\n",
       "      <td>0</td>\n",
       "    </tr>\n",
       "    <tr>\n",
       "      <th>4</th>\n",
       "      <td>10.58</td>\n",
       "      <td>1360</td>\n",
       "      <td>1</td>\n",
       "      <td>1</td>\n",
       "      <td>0</td>\n",
       "      <td>0</td>\n",
       "      <td>1</td>\n",
       "      <td>0</td>\n",
       "      <td>0</td>\n",
       "      <td>0</td>\n",
       "      <td>0</td>\n",
       "      <td>0</td>\n",
       "      <td>0</td>\n",
       "      <td>0</td>\n",
       "      <td>0</td>\n",
       "      <td>0</td>\n",
       "      <td>0</td>\n",
       "      <td>0</td>\n",
       "    </tr>\n",
       "  </tbody>\n",
       "</table>\n",
       "</div>"
      ],
      "text/plain": [
       "       amt  city_pop  is_fraud  time_var  category_entertainment  \\\n",
       "0  1015.53     54767         1         0                       0   \n",
       "1    22.02      1228         1         0                       0   \n",
       "2     7.30      3395         1         1                       0   \n",
       "3     7.38      4720         1         1                       0   \n",
       "4    10.58      1360         1         1                       0   \n",
       "\n",
       "   category_food_dining  category_gas_transport  category_grocery_net  \\\n",
       "0                     0                       0                     0   \n",
       "1                     0                       0                     0   \n",
       "2                     0                       1                     0   \n",
       "3                     0                       0                     0   \n",
       "4                     0                       1                     0   \n",
       "\n",
       "   category_grocery_pos  category_health_fitness  category_home  \\\n",
       "0                     0                        0              0   \n",
       "1                     0                        0              0   \n",
       "2                     0                        0              0   \n",
       "3                     0                        0              0   \n",
       "4                     0                        0              0   \n",
       "\n",
       "   category_kids_pets  category_misc_net  category_misc_pos  \\\n",
       "0                   0                  1                  0   \n",
       "1                   1                  0                  0   \n",
       "2                   0                  0                  0   \n",
       "3                   0                  0                  1   \n",
       "4                   0                  0                  0   \n",
       "\n",
       "   category_personal_care  category_shopping_net  category_shopping_pos  \\\n",
       "0                       0                      0                      0   \n",
       "1                       0                      0                      0   \n",
       "2                       0                      0                      0   \n",
       "3                       0                      0                      0   \n",
       "4                       0                      0                      0   \n",
       "\n",
       "   category_travel  \n",
       "0                0  \n",
       "1                0  \n",
       "2                0  \n",
       "3                0  \n",
       "4                0  "
      ]
     },
     "execution_count": 23,
     "metadata": {},
     "output_type": "execute_result"
    }
   ],
   "source": [
    "bal_samp = pd.concat([df_minority_upsampled,df_majority], axis=0,ignore_index=True)\n",
    "bal_samp.head()"
   ]
  },
  {
   "cell_type": "code",
   "execution_count": 24,
   "metadata": {
    "executionInfo": {
     "elapsed": 3587,
     "status": "aborted",
     "timestamp": 1674872747768,
     "user": {
      "displayName": "Mohammed",
      "userId": "05482709744935226545"
     },
     "user_tz": 480
    },
    "id": "3YpIe7jVCxkV"
   },
   "outputs": [
    {
     "data": {
      "text/plain": [
       "Index(['amt', 'city_pop', 'is_fraud', 'time_var', 'category_entertainment',\n",
       "       'category_food_dining', 'category_gas_transport',\n",
       "       'category_grocery_net', 'category_grocery_pos',\n",
       "       'category_health_fitness', 'category_home', 'category_kids_pets',\n",
       "       'category_misc_net', 'category_misc_pos', 'category_personal_care',\n",
       "       'category_shopping_net', 'category_shopping_pos', 'category_travel'],\n",
       "      dtype='object')"
      ]
     },
     "execution_count": 24,
     "metadata": {},
     "output_type": "execute_result"
    }
   ],
   "source": [
    "bal_samp.columns"
   ]
  },
  {
   "cell_type": "code",
   "execution_count": 25,
   "metadata": {
    "executionInfo": {
     "elapsed": 3588,
     "status": "aborted",
     "timestamp": 1674872747769,
     "user": {
      "displayName": "Mohammed",
      "userId": "05482709744935226545"
     },
     "user_tz": 480
    },
    "id": "HCBqdVfz-_aB"
   },
   "outputs": [],
   "source": [
    "X = bal_samp[['amt', 'city_pop', 'time_var', 'category_entertainment',\n",
    "       'category_food_dining', 'category_gas_transport',\n",
    "       'category_grocery_net', 'category_grocery_pos',\n",
    "       'category_health_fitness', 'category_home', 'category_kids_pets',\n",
    "       'category_misc_net', 'category_misc_pos', 'category_personal_care',\n",
    "       'category_shopping_net', 'category_shopping_pos', 'category_travel']]\n",
    "y = bal_samp[\"is_fraud\"]"
   ]
  },
  {
   "cell_type": "code",
   "execution_count": 26,
   "metadata": {
    "executionInfo": {
     "elapsed": 3587,
     "status": "aborted",
     "timestamp": 1674872747769,
     "user": {
      "displayName": "Mohammed",
      "userId": "05482709744935226545"
     },
     "user_tz": 480
    },
    "id": "PuAmlFYSAUgu"
   },
   "outputs": [
    {
     "data": {
      "text/plain": [
       "1107148"
      ]
     },
     "execution_count": 26,
     "metadata": {},
     "output_type": "execute_result"
    }
   ],
   "source": [
    "len(X)"
   ]
  },
  {
   "cell_type": "code",
   "execution_count": 27,
   "metadata": {
    "executionInfo": {
     "elapsed": 3586,
     "status": "aborted",
     "timestamp": 1674872747769,
     "user": {
      "displayName": "Mohammed",
      "userId": "05482709744935226545"
     },
     "user_tz": 480
    },
    "id": "yfHFr_McBlL3"
   },
   "outputs": [
    {
     "data": {
      "text/plain": [
       "1107148"
      ]
     },
     "execution_count": 27,
     "metadata": {},
     "output_type": "execute_result"
    }
   ],
   "source": [
    "len(y)"
   ]
  },
  {
   "cell_type": "markdown",
   "metadata": {
    "id": "PeurmqI4-OoC"
   },
   "source": [
    "# 5.) Train a Logistic regression."
   ]
  },
  {
   "cell_type": "code",
   "execution_count": 28,
   "metadata": {
    "executionInfo": {
     "elapsed": 3585,
     "status": "aborted",
     "timestamp": 1674872747770,
     "user": {
      "displayName": "Mohammed",
      "userId": "05482709744935226545"
     },
     "user_tz": 480
    },
    "id": "YioJ4I-hXxQd"
   },
   "outputs": [],
   "source": [
    "from sklearn.model_selection import train_test_split\n",
    "from sklearn.model_selection import GridSearchCV\n",
    "from sklearn import metrics\n",
    "from sklearn.metrics import mean_squared_error\n",
    "from sklearn.linear_model import LogisticRegression\n",
    "from sklearn.metrics import confusion_matrix, plot_confusion_matrix, classification_report"
   ]
  },
  {
   "cell_type": "code",
   "execution_count": 29,
   "metadata": {
    "executionInfo": {
     "elapsed": 3584,
     "status": "aborted",
     "timestamp": 1674872747770,
     "user": {
      "displayName": "Mohammed",
      "userId": "05482709744935226545"
     },
     "user_tz": 480
    },
    "id": "JiGAPGtwXuXH"
   },
   "outputs": [],
   "source": [
    "X_train, X_test, y_train, y_test = train_test_split(X, y, test_size=0.3, random_state=88)"
   ]
  },
  {
   "cell_type": "code",
   "execution_count": 30,
   "metadata": {
    "executionInfo": {
     "elapsed": 3583,
     "status": "aborted",
     "timestamp": 1674872747770,
     "user": {
      "displayName": "Mohammed",
      "userId": "05482709744935226545"
     },
     "user_tz": 480
    },
    "id": "38g-sU6XYb8N"
   },
   "outputs": [
    {
     "data": {
      "text/plain": [
       "array([[-7.64525883e-01, -2.80169187e-01,  1.62961875e+00, ...,\n",
       "        -4.29172195e-01, -3.22591419e-01, -1.60436962e-01],\n",
       "       [ 2.16984256e+00, -2.82378511e-01, -6.13640459e-01, ...,\n",
       "        -4.29172195e-01,  3.09989647e+00, -1.60436962e-01],\n",
       "       [-5.75307402e-01, -2.89284074e-01,  1.62961875e+00, ...,\n",
       "        -4.29172195e-01, -3.22591419e-01, -1.60436962e-01],\n",
       "       ...,\n",
       "       [ 1.13765438e-01, -2.80644515e-01,  1.62961875e+00, ...,\n",
       "        -4.29172195e-01, -3.22591419e-01, -1.60436962e-01],\n",
       "       [-7.77281590e-01, -2.73122926e-01, -6.13640459e-01, ...,\n",
       "        -4.29172195e-01, -3.22591419e-01, -1.60436962e-01],\n",
       "       [ 9.91421620e-01, -1.32663946e-03, -6.13640459e-01, ...,\n",
       "        -4.29172195e-01,  3.09989647e+00, -1.60436962e-01]])"
      ]
     },
     "execution_count": 30,
     "metadata": {},
     "output_type": "execute_result"
    }
   ],
   "source": [
    "from sklearn.preprocessing import StandardScaler\n",
    "scaler = StandardScaler()\n",
    "\n",
    "scaler.fit(X_train)\n",
    "X_train = scaler.transform(X_train)\n",
    "X_train"
   ]
  },
  {
   "cell_type": "code",
   "execution_count": 31,
   "metadata": {
    "executionInfo": {
     "elapsed": 6,
     "status": "aborted",
     "timestamp": 1674872748028,
     "user": {
      "displayName": "Mohammed",
      "userId": "05482709744935226545"
     },
     "user_tz": 480
    },
    "id": "X5YwJ7wqYhbU"
   },
   "outputs": [
    {
     "data": {
      "text/plain": [
       "array([[-7.68671987e-02,  1.99261778e+00, -6.12470037e-01, ...,\n",
       "        -4.26533421e-01, -3.23876538e-01, -1.59953770e-01],\n",
       "       [ 2.24731991e+00, -2.75558018e-01, -6.12470037e-01, ...,\n",
       "         2.34448217e+00, -3.23876538e-01, -1.59953770e-01],\n",
       "       [-7.74846794e-01, -2.87962516e-01, -6.12470037e-01, ...,\n",
       "        -4.26533421e-01,  3.08759629e+00, -1.59953770e-01],\n",
       "       ...,\n",
       "       [-6.68712310e-01,  6.35475851e-02, -6.12470037e-01, ...,\n",
       "        -4.26533421e-01, -3.23876538e-01, -1.59953770e-01],\n",
       "       [ 1.56418468e+00, -2.83565937e-01, -6.12470037e-01, ...,\n",
       "         2.34448217e+00, -3.23876538e-01, -1.59953770e-01],\n",
       "       [-1.46643159e-03, -2.75432835e-01, -6.12470037e-01, ...,\n",
       "        -4.26533421e-01, -3.23876538e-01, -1.59953770e-01]])"
      ]
     },
     "execution_count": 31,
     "metadata": {},
     "output_type": "execute_result"
    }
   ],
   "source": [
    "scaler.fit(X_test)\n",
    "X_test = scaler.transform(X_test)\n",
    "X_test"
   ]
  },
  {
   "cell_type": "code",
   "execution_count": 32,
   "metadata": {
    "executionInfo": {
     "elapsed": 7,
     "status": "aborted",
     "timestamp": 1674872748029,
     "user": {
      "displayName": "Mohammed",
      "userId": "05482709744935226545"
     },
     "user_tz": 480
    },
    "id": "DjgQ8BQM99WR"
   },
   "outputs": [],
   "source": [
    "log_reg = LogisticRegression().fit(X_train, y_train)"
   ]
  },
  {
   "cell_type": "code",
   "execution_count": 33,
   "metadata": {},
   "outputs": [],
   "source": [
    "pred = log_reg.predict(X_test)"
   ]
  },
  {
   "cell_type": "code",
   "execution_count": 34,
   "metadata": {},
   "outputs": [
    {
     "name": "stderr",
     "output_type": "stream",
     "text": [
      "c:\\users\\lisam\\appdata\\local\\programs\\python\\python39\\lib\\site-packages\\sklearn\\utils\\deprecation.py:87: FutureWarning: Function plot_confusion_matrix is deprecated; Function `plot_confusion_matrix` is deprecated in 1.0 and will be removed in 1.2. Use one of the class methods: ConfusionMatrixDisplay.from_predictions or ConfusionMatrixDisplay.from_estimator.\n",
      "  warnings.warn(msg, category=FutureWarning)\n"
     ]
    },
    {
     "data": {
      "text/plain": [
       "<sklearn.metrics._plot.confusion_matrix.ConfusionMatrixDisplay at 0x27b96a52310>"
      ]
     },
     "execution_count": 34,
     "metadata": {},
     "output_type": "execute_result"
    },
    {
     "data": {
      "image/png": "[encoded data removed]",
      "text/plain": [
       "<Figure size 432x288 with 2 Axes>"
      ]
     },
     "metadata": {
      "needs_background": "light"
     },
     "output_type": "display_data"
    }
   ],
   "source": [
    "plot_confusion_matrix(log_reg, X_test, y_test)\n"
   ]
  },
  {
   "cell_type": "markdown",
   "metadata": {
    "id": "6isBwtmL-R4p"
   },
   "source": [
    "# 6.) The company you are working for wants to target at a False Positive rate of 5% what threshold should you use? (Use oversampled data)"
   ]
  },
  {
   "cell_type": "code",
   "execution_count": 107,
   "metadata": {
    "executionInfo": {
     "elapsed": 7,
     "status": "aborted",
     "timestamp": 1674872748029,
     "user": {
      "displayName": "Mohammed",
      "userId": "05482709744935226545"
     },
     "user_tz": 480
    },
    "id": "aJXKNxm3R5-c"
   },
   "outputs": [],
   "source": [
    "pred_p = log_reg.predict_proba(X_train)"
   ]
  },
  {
   "cell_type": "code",
   "execution_count": 108,
   "metadata": {
    "executionInfo": {
     "elapsed": 6,
     "status": "aborted",
     "timestamp": 1674872748029,
     "user": {
      "displayName": "Mohammed",
      "userId": "05482709744935226545"
     },
     "user_tz": 480
    },
    "id": "nJJwaWkXSnUW"
   },
   "outputs": [],
   "source": [
    "result = pd.DataFrame(pred_p)"
   ]
  },
  {
   "cell_type": "code",
   "execution_count": 109,
   "metadata": {},
   "outputs": [
    {
     "data": {
      "text/html": [
       "<div>\n",
       "<style scoped>\n",
       "    .dataframe tbody tr th:only-of-type {\n",
       "        vertical-align: middle;\n",
       "    }\n",
       "\n",
       "    .dataframe tbody tr th {\n",
       "        vertical-align: top;\n",
       "    }\n",
       "\n",
       "    .dataframe thead th {\n",
       "        text-align: right;\n",
       "    }\n",
       "</style>\n",
       "<table border=\"1\" class=\"dataframe\">\n",
       "  <thead>\n",
       "    <tr style=\"text-align: right;\">\n",
       "      <th></th>\n",
       "      <th>0</th>\n",
       "      <th>1</th>\n",
       "    </tr>\n",
       "  </thead>\n",
       "  <tbody>\n",
       "    <tr>\n",
       "      <th>0</th>\n",
       "      <td>0.570432</td>\n",
       "      <td>0.429568</td>\n",
       "    </tr>\n",
       "    <tr>\n",
       "      <th>1</th>\n",
       "      <td>0.001664</td>\n",
       "      <td>0.998336</td>\n",
       "    </tr>\n",
       "    <tr>\n",
       "      <th>2</th>\n",
       "      <td>0.580781</td>\n",
       "      <td>0.419219</td>\n",
       "    </tr>\n",
       "    <tr>\n",
       "      <th>3</th>\n",
       "      <td>0.732864</td>\n",
       "      <td>0.267136</td>\n",
       "    </tr>\n",
       "    <tr>\n",
       "      <th>4</th>\n",
       "      <td>0.996793</td>\n",
       "      <td>0.003207</td>\n",
       "    </tr>\n",
       "  </tbody>\n",
       "</table>\n",
       "</div>"
      ],
      "text/plain": [
       "          0         1\n",
       "0  0.570432  0.429568\n",
       "1  0.001664  0.998336\n",
       "2  0.580781  0.419219\n",
       "3  0.732864  0.267136\n",
       "4  0.996793  0.003207"
      ]
     },
     "execution_count": 109,
     "metadata": {},
     "output_type": "execute_result"
    }
   ],
   "source": [
    "result.head()"
   ]
  },
  {
   "cell_type": "code",
   "execution_count": 110,
   "metadata": {},
   "outputs": [],
   "source": [
    "result['threshold'] = np.nan\n",
    "result['prediction'] = np.nan"
   ]
  },
  {
   "cell_type": "code",
   "execution_count": 111,
   "metadata": {},
   "outputs": [
    {
     "data": {
      "text/html": [
       "<div>\n",
       "<style scoped>\n",
       "    .dataframe tbody tr th:only-of-type {\n",
       "        vertical-align: middle;\n",
       "    }\n",
       "\n",
       "    .dataframe tbody tr th {\n",
       "        vertical-align: top;\n",
       "    }\n",
       "\n",
       "    .dataframe thead th {\n",
       "        text-align: right;\n",
       "    }\n",
       "</style>\n",
       "<table border=\"1\" class=\"dataframe\">\n",
       "  <thead>\n",
       "    <tr style=\"text-align: right;\">\n",
       "      <th></th>\n",
       "      <th>0</th>\n",
       "      <th>1</th>\n",
       "      <th>threshold</th>\n",
       "      <th>prediction</th>\n",
       "    </tr>\n",
       "  </thead>\n",
       "  <tbody>\n",
       "    <tr>\n",
       "      <th>0</th>\n",
       "      <td>0.570432</td>\n",
       "      <td>0.429568</td>\n",
       "      <td>NaN</td>\n",
       "      <td>NaN</td>\n",
       "    </tr>\n",
       "    <tr>\n",
       "      <th>1</th>\n",
       "      <td>0.001664</td>\n",
       "      <td>0.998336</td>\n",
       "      <td>NaN</td>\n",
       "      <td>NaN</td>\n",
       "    </tr>\n",
       "    <tr>\n",
       "      <th>2</th>\n",
       "      <td>0.580781</td>\n",
       "      <td>0.419219</td>\n",
       "      <td>NaN</td>\n",
       "      <td>NaN</td>\n",
       "    </tr>\n",
       "  </tbody>\n",
       "</table>\n",
       "</div>"
      ],
      "text/plain": [
       "          0         1  threshold  prediction\n",
       "0  0.570432  0.429568        NaN         NaN\n",
       "1  0.001664  0.998336        NaN         NaN\n",
       "2  0.580781  0.419219        NaN         NaN"
      ]
     },
     "execution_count": 111,
     "metadata": {},
     "output_type": "execute_result"
    }
   ],
   "source": [
    "result.head()"
   ]
  },
  {
   "cell_type": "code",
   "execution_count": 112,
   "metadata": {},
   "outputs": [],
   "source": [
    "result['true'] = y_train.values"
   ]
  },
  {
   "cell_type": "code",
   "execution_count": 113,
   "metadata": {},
   "outputs": [],
   "source": [
    "result.columns = ['not_fraud', 'fraud', 'threshold', 'prediction', 'true']"
   ]
  },
  {
   "cell_type": "code",
   "execution_count": 114,
   "metadata": {},
   "outputs": [
    {
     "data": {
      "text/html": [
       "<div>\n",
       "<style scoped>\n",
       "    .dataframe tbody tr th:only-of-type {\n",
       "        vertical-align: middle;\n",
       "    }\n",
       "\n",
       "    .dataframe tbody tr th {\n",
       "        vertical-align: top;\n",
       "    }\n",
       "\n",
       "    .dataframe thead th {\n",
       "        text-align: right;\n",
       "    }\n",
       "</style>\n",
       "<table border=\"1\" class=\"dataframe\">\n",
       "  <thead>\n",
       "    <tr style=\"text-align: right;\">\n",
       "      <th></th>\n",
       "      <th>not_fraud</th>\n",
       "      <th>fraud</th>\n",
       "      <th>threshold</th>\n",
       "      <th>prediction</th>\n",
       "      <th>true</th>\n",
       "    </tr>\n",
       "  </thead>\n",
       "  <tbody>\n",
       "    <tr>\n",
       "      <th>0</th>\n",
       "      <td>0.570432</td>\n",
       "      <td>0.429568</td>\n",
       "      <td>NaN</td>\n",
       "      <td>NaN</td>\n",
       "      <td>1</td>\n",
       "    </tr>\n",
       "    <tr>\n",
       "      <th>1</th>\n",
       "      <td>0.001664</td>\n",
       "      <td>0.998336</td>\n",
       "      <td>NaN</td>\n",
       "      <td>NaN</td>\n",
       "      <td>1</td>\n",
       "    </tr>\n",
       "    <tr>\n",
       "      <th>2</th>\n",
       "      <td>0.580781</td>\n",
       "      <td>0.419219</td>\n",
       "      <td>NaN</td>\n",
       "      <td>NaN</td>\n",
       "      <td>0</td>\n",
       "    </tr>\n",
       "    <tr>\n",
       "      <th>3</th>\n",
       "      <td>0.732864</td>\n",
       "      <td>0.267136</td>\n",
       "      <td>NaN</td>\n",
       "      <td>NaN</td>\n",
       "      <td>1</td>\n",
       "    </tr>\n",
       "    <tr>\n",
       "      <th>4</th>\n",
       "      <td>0.996793</td>\n",
       "      <td>0.003207</td>\n",
       "      <td>NaN</td>\n",
       "      <td>NaN</td>\n",
       "      <td>0</td>\n",
       "    </tr>\n",
       "  </tbody>\n",
       "</table>\n",
       "</div>"
      ],
      "text/plain": [
       "   not_fraud     fraud  threshold  prediction  true\n",
       "0   0.570432  0.429568        NaN         NaN     1\n",
       "1   0.001664  0.998336        NaN         NaN     1\n",
       "2   0.580781  0.419219        NaN         NaN     0\n",
       "3   0.732864  0.267136        NaN         NaN     1\n",
       "4   0.996793  0.003207        NaN         NaN     0"
      ]
     },
     "execution_count": 114,
     "metadata": {},
     "output_type": "execute_result"
    }
   ],
   "source": [
    "result.head()"
   ]
  },
  {
   "cell_type": "code",
   "execution_count": 92,
   "metadata": {},
   "outputs": [
    {
     "name": "stderr",
     "output_type": "stream",
     "text": [
      "C:\\Users\\lisam\\AppData\\Local\\Temp\\ipykernel_11212\\1042991553.py:11: FutureWarning: The frame.append method is deprecated and will be removed from pandas in a future version. Use pandas.concat instead.\n",
      "  opt = opt.append(temp, ignore_index=True)\n",
      "C:\\Users\\lisam\\AppData\\Local\\Temp\\ipykernel_11212\\1042991553.py:11: FutureWarning: The frame.append method is deprecated and will be removed from pandas in a future version. Use pandas.concat instead.\n",
      "  opt = opt.append(temp, ignore_index=True)\n",
      "C:\\Users\\lisam\\AppData\\Local\\Temp\\ipykernel_11212\\1042991553.py:11: FutureWarning: The frame.append method is deprecated and will be removed from pandas in a future version. Use pandas.concat instead.\n",
      "  opt = opt.append(temp, ignore_index=True)\n",
      "C:\\Users\\lisam\\AppData\\Local\\Temp\\ipykernel_11212\\1042991553.py:11: FutureWarning: The frame.append method is deprecated and will be removed from pandas in a future version. Use pandas.concat instead.\n",
      "  opt = opt.append(temp, ignore_index=True)\n",
      "C:\\Users\\lisam\\AppData\\Local\\Temp\\ipykernel_11212\\1042991553.py:11: FutureWarning: The frame.append method is deprecated and will be removed from pandas in a future version. Use pandas.concat instead.\n",
      "  opt = opt.append(temp, ignore_index=True)\n",
      "C:\\Users\\lisam\\AppData\\Local\\Temp\\ipykernel_11212\\1042991553.py:11: FutureWarning: The frame.append method is deprecated and will be removed from pandas in a future version. Use pandas.concat instead.\n",
      "  opt = opt.append(temp, ignore_index=True)\n",
      "C:\\Users\\lisam\\AppData\\Local\\Temp\\ipykernel_11212\\1042991553.py:11: FutureWarning: The frame.append method is deprecated and will be removed from pandas in a future version. Use pandas.concat instead.\n",
      "  opt = opt.append(temp, ignore_index=True)\n",
      "C:\\Users\\lisam\\AppData\\Local\\Temp\\ipykernel_11212\\1042991553.py:11: FutureWarning: The frame.append method is deprecated and will be removed from pandas in a future version. Use pandas.concat instead.\n",
      "  opt = opt.append(temp, ignore_index=True)\n",
      "C:\\Users\\lisam\\AppData\\Local\\Temp\\ipykernel_11212\\1042991553.py:11: FutureWarning: The frame.append method is deprecated and will be removed from pandas in a future version. Use pandas.concat instead.\n",
      "  opt = opt.append(temp, ignore_index=True)\n",
      "C:\\Users\\lisam\\AppData\\Local\\Temp\\ipykernel_11212\\1042991553.py:11: FutureWarning: The frame.append method is deprecated and will be removed from pandas in a future version. Use pandas.concat instead.\n",
      "  opt = opt.append(temp, ignore_index=True)\n",
      "C:\\Users\\lisam\\AppData\\Local\\Temp\\ipykernel_11212\\1042991553.py:11: FutureWarning: The frame.append method is deprecated and will be removed from pandas in a future version. Use pandas.concat instead.\n",
      "  opt = opt.append(temp, ignore_index=True)\n",
      "C:\\Users\\lisam\\AppData\\Local\\Temp\\ipykernel_11212\\1042991553.py:11: FutureWarning: The frame.append method is deprecated and will be removed from pandas in a future version. Use pandas.concat instead.\n",
      "  opt = opt.append(temp, ignore_index=True)\n",
      "C:\\Users\\lisam\\AppData\\Local\\Temp\\ipykernel_11212\\1042991553.py:11: FutureWarning: The frame.append method is deprecated and will be removed from pandas in a future version. Use pandas.concat instead.\n",
      "  opt = opt.append(temp, ignore_index=True)\n",
      "C:\\Users\\lisam\\AppData\\Local\\Temp\\ipykernel_11212\\1042991553.py:11: FutureWarning: The frame.append method is deprecated and will be removed from pandas in a future version. Use pandas.concat instead.\n",
      "  opt = opt.append(temp, ignore_index=True)\n",
      "C:\\Users\\lisam\\AppData\\Local\\Temp\\ipykernel_11212\\1042991553.py:11: FutureWarning: The frame.append method is deprecated and will be removed from pandas in a future version. Use pandas.concat instead.\n",
      "  opt = opt.append(temp, ignore_index=True)\n",
      "C:\\Users\\lisam\\AppData\\Local\\Temp\\ipykernel_11212\\1042991553.py:11: FutureWarning: The frame.append method is deprecated and will be removed from pandas in a future version. Use pandas.concat instead.\n",
      "  opt = opt.append(temp, ignore_index=True)\n",
      "C:\\Users\\lisam\\AppData\\Local\\Temp\\ipykernel_11212\\1042991553.py:11: FutureWarning: The frame.append method is deprecated and will be removed from pandas in a future version. Use pandas.concat instead.\n",
      "  opt = opt.append(temp, ignore_index=True)\n",
      "C:\\Users\\lisam\\AppData\\Local\\Temp\\ipykernel_11212\\1042991553.py:11: FutureWarning: The frame.append method is deprecated and will be removed from pandas in a future version. Use pandas.concat instead.\n",
      "  opt = opt.append(temp, ignore_index=True)\n",
      "C:\\Users\\lisam\\AppData\\Local\\Temp\\ipykernel_11212\\1042991553.py:11: FutureWarning: The frame.append method is deprecated and will be removed from pandas in a future version. Use pandas.concat instead.\n",
      "  opt = opt.append(temp, ignore_index=True)\n",
      "C:\\Users\\lisam\\AppData\\Local\\Temp\\ipykernel_11212\\1042991553.py:11: FutureWarning: The frame.append method is deprecated and will be removed from pandas in a future version. Use pandas.concat instead.\n",
      "  opt = opt.append(temp, ignore_index=True)\n",
      "C:\\Users\\lisam\\AppData\\Local\\Temp\\ipykernel_11212\\1042991553.py:11: FutureWarning: The frame.append method is deprecated and will be removed from pandas in a future version. Use pandas.concat instead.\n",
      "  opt = opt.append(temp, ignore_index=True)\n",
      "C:\\Users\\lisam\\AppData\\Local\\Temp\\ipykernel_11212\\1042991553.py:11: FutureWarning: The frame.append method is deprecated and will be removed from pandas in a future version. Use pandas.concat instead.\n",
      "  opt = opt.append(temp, ignore_index=True)\n",
      "C:\\Users\\lisam\\AppData\\Local\\Temp\\ipykernel_11212\\1042991553.py:11: FutureWarning: The frame.append method is deprecated and will be removed from pandas in a future version. Use pandas.concat instead.\n",
      "  opt = opt.append(temp, ignore_index=True)\n",
      "C:\\Users\\lisam\\AppData\\Local\\Temp\\ipykernel_11212\\1042991553.py:11: FutureWarning: The frame.append method is deprecated and will be removed from pandas in a future version. Use pandas.concat instead.\n",
      "  opt = opt.append(temp, ignore_index=True)\n",
      "C:\\Users\\lisam\\AppData\\Local\\Temp\\ipykernel_11212\\1042991553.py:11: FutureWarning: The frame.append method is deprecated and will be removed from pandas in a future version. Use pandas.concat instead.\n",
      "  opt = opt.append(temp, ignore_index=True)\n",
      "C:\\Users\\lisam\\AppData\\Local\\Temp\\ipykernel_11212\\1042991553.py:11: FutureWarning: The frame.append method is deprecated and will be removed from pandas in a future version. Use pandas.concat instead.\n",
      "  opt = opt.append(temp, ignore_index=True)\n",
      "C:\\Users\\lisam\\AppData\\Local\\Temp\\ipykernel_11212\\1042991553.py:11: FutureWarning: The frame.append method is deprecated and will be removed from pandas in a future version. Use pandas.concat instead.\n",
      "  opt = opt.append(temp, ignore_index=True)\n",
      "C:\\Users\\lisam\\AppData\\Local\\Temp\\ipykernel_11212\\1042991553.py:11: FutureWarning: The frame.append method is deprecated and will be removed from pandas in a future version. Use pandas.concat instead.\n",
      "  opt = opt.append(temp, ignore_index=True)\n",
      "C:\\Users\\lisam\\AppData\\Local\\Temp\\ipykernel_11212\\1042991553.py:11: FutureWarning: The frame.append method is deprecated and will be removed from pandas in a future version. Use pandas.concat instead.\n",
      "  opt = opt.append(temp, ignore_index=True)\n",
      "C:\\Users\\lisam\\AppData\\Local\\Temp\\ipykernel_11212\\1042991553.py:11: FutureWarning: The frame.append method is deprecated and will be removed from pandas in a future version. Use pandas.concat instead.\n",
      "  opt = opt.append(temp, ignore_index=True)\n",
      "C:\\Users\\lisam\\AppData\\Local\\Temp\\ipykernel_11212\\1042991553.py:11: FutureWarning: The frame.append method is deprecated and will be removed from pandas in a future version. Use pandas.concat instead.\n",
      "  opt = opt.append(temp, ignore_index=True)\n",
      "C:\\Users\\lisam\\AppData\\Local\\Temp\\ipykernel_11212\\1042991553.py:11: FutureWarning: The frame.append method is deprecated and will be removed from pandas in a future version. Use pandas.concat instead.\n",
      "  opt = opt.append(temp, ignore_index=True)\n",
      "C:\\Users\\lisam\\AppData\\Local\\Temp\\ipykernel_11212\\1042991553.py:11: FutureWarning: The frame.append method is deprecated and will be removed from pandas in a future version. Use pandas.concat instead.\n",
      "  opt = opt.append(temp, ignore_index=True)\n",
      "C:\\Users\\lisam\\AppData\\Local\\Temp\\ipykernel_11212\\1042991553.py:11: FutureWarning: The frame.append method is deprecated and will be removed from pandas in a future version. Use pandas.concat instead.\n",
      "  opt = opt.append(temp, ignore_index=True)\n"
     ]
    },
    {
     "name": "stderr",
     "output_type": "stream",
     "text": [
      "C:\\Users\\lisam\\AppData\\Local\\Temp\\ipykernel_11212\\1042991553.py:11: FutureWarning: The frame.append method is deprecated and will be removed from pandas in a future version. Use pandas.concat instead.\n",
      "  opt = opt.append(temp, ignore_index=True)\n",
      "C:\\Users\\lisam\\AppData\\Local\\Temp\\ipykernel_11212\\1042991553.py:11: FutureWarning: The frame.append method is deprecated and will be removed from pandas in a future version. Use pandas.concat instead.\n",
      "  opt = opt.append(temp, ignore_index=True)\n",
      "C:\\Users\\lisam\\AppData\\Local\\Temp\\ipykernel_11212\\1042991553.py:11: FutureWarning: The frame.append method is deprecated and will be removed from pandas in a future version. Use pandas.concat instead.\n",
      "  opt = opt.append(temp, ignore_index=True)\n",
      "C:\\Users\\lisam\\AppData\\Local\\Temp\\ipykernel_11212\\1042991553.py:11: FutureWarning: The frame.append method is deprecated and will be removed from pandas in a future version. Use pandas.concat instead.\n",
      "  opt = opt.append(temp, ignore_index=True)\n",
      "C:\\Users\\lisam\\AppData\\Local\\Temp\\ipykernel_11212\\1042991553.py:11: FutureWarning: The frame.append method is deprecated and will be removed from pandas in a future version. Use pandas.concat instead.\n",
      "  opt = opt.append(temp, ignore_index=True)\n",
      "C:\\Users\\lisam\\AppData\\Local\\Temp\\ipykernel_11212\\1042991553.py:11: FutureWarning: The frame.append method is deprecated and will be removed from pandas in a future version. Use pandas.concat instead.\n",
      "  opt = opt.append(temp, ignore_index=True)\n",
      "C:\\Users\\lisam\\AppData\\Local\\Temp\\ipykernel_11212\\1042991553.py:11: FutureWarning: The frame.append method is deprecated and will be removed from pandas in a future version. Use pandas.concat instead.\n",
      "  opt = opt.append(temp, ignore_index=True)\n",
      "C:\\Users\\lisam\\AppData\\Local\\Temp\\ipykernel_11212\\1042991553.py:11: FutureWarning: The frame.append method is deprecated and will be removed from pandas in a future version. Use pandas.concat instead.\n",
      "  opt = opt.append(temp, ignore_index=True)\n",
      "C:\\Users\\lisam\\AppData\\Local\\Temp\\ipykernel_11212\\1042991553.py:11: FutureWarning: The frame.append method is deprecated and will be removed from pandas in a future version. Use pandas.concat instead.\n",
      "  opt = opt.append(temp, ignore_index=True)\n",
      "C:\\Users\\lisam\\AppData\\Local\\Temp\\ipykernel_11212\\1042991553.py:11: FutureWarning: The frame.append method is deprecated and will be removed from pandas in a future version. Use pandas.concat instead.\n",
      "  opt = opt.append(temp, ignore_index=True)\n",
      "C:\\Users\\lisam\\AppData\\Local\\Temp\\ipykernel_11212\\1042991553.py:11: FutureWarning: The frame.append method is deprecated and will be removed from pandas in a future version. Use pandas.concat instead.\n",
      "  opt = opt.append(temp, ignore_index=True)\n",
      "C:\\Users\\lisam\\AppData\\Local\\Temp\\ipykernel_11212\\1042991553.py:11: FutureWarning: The frame.append method is deprecated and will be removed from pandas in a future version. Use pandas.concat instead.\n",
      "  opt = opt.append(temp, ignore_index=True)\n",
      "C:\\Users\\lisam\\AppData\\Local\\Temp\\ipykernel_11212\\1042991553.py:11: FutureWarning: The frame.append method is deprecated and will be removed from pandas in a future version. Use pandas.concat instead.\n",
      "  opt = opt.append(temp, ignore_index=True)\n",
      "C:\\Users\\lisam\\AppData\\Local\\Temp\\ipykernel_11212\\1042991553.py:11: FutureWarning: The frame.append method is deprecated and will be removed from pandas in a future version. Use pandas.concat instead.\n",
      "  opt = opt.append(temp, ignore_index=True)\n",
      "C:\\Users\\lisam\\AppData\\Local\\Temp\\ipykernel_11212\\1042991553.py:11: FutureWarning: The frame.append method is deprecated and will be removed from pandas in a future version. Use pandas.concat instead.\n",
      "  opt = opt.append(temp, ignore_index=True)\n",
      "C:\\Users\\lisam\\AppData\\Local\\Temp\\ipykernel_11212\\1042991553.py:11: FutureWarning: The frame.append method is deprecated and will be removed from pandas in a future version. Use pandas.concat instead.\n",
      "  opt = opt.append(temp, ignore_index=True)\n",
      "C:\\Users\\lisam\\AppData\\Local\\Temp\\ipykernel_11212\\1042991553.py:11: FutureWarning: The frame.append method is deprecated and will be removed from pandas in a future version. Use pandas.concat instead.\n",
      "  opt = opt.append(temp, ignore_index=True)\n",
      "C:\\Users\\lisam\\AppData\\Local\\Temp\\ipykernel_11212\\1042991553.py:11: FutureWarning: The frame.append method is deprecated and will be removed from pandas in a future version. Use pandas.concat instead.\n",
      "  opt = opt.append(temp, ignore_index=True)\n",
      "C:\\Users\\lisam\\AppData\\Local\\Temp\\ipykernel_11212\\1042991553.py:11: FutureWarning: The frame.append method is deprecated and will be removed from pandas in a future version. Use pandas.concat instead.\n",
      "  opt = opt.append(temp, ignore_index=True)\n",
      "C:\\Users\\lisam\\AppData\\Local\\Temp\\ipykernel_11212\\1042991553.py:11: FutureWarning: The frame.append method is deprecated and will be removed from pandas in a future version. Use pandas.concat instead.\n",
      "  opt = opt.append(temp, ignore_index=True)\n",
      "C:\\Users\\lisam\\AppData\\Local\\Temp\\ipykernel_11212\\1042991553.py:11: FutureWarning: The frame.append method is deprecated and will be removed from pandas in a future version. Use pandas.concat instead.\n",
      "  opt = opt.append(temp, ignore_index=True)\n",
      "C:\\Users\\lisam\\AppData\\Local\\Temp\\ipykernel_11212\\1042991553.py:11: FutureWarning: The frame.append method is deprecated and will be removed from pandas in a future version. Use pandas.concat instead.\n",
      "  opt = opt.append(temp, ignore_index=True)\n",
      "C:\\Users\\lisam\\AppData\\Local\\Temp\\ipykernel_11212\\1042991553.py:11: FutureWarning: The frame.append method is deprecated and will be removed from pandas in a future version. Use pandas.concat instead.\n",
      "  opt = opt.append(temp, ignore_index=True)\n",
      "C:\\Users\\lisam\\AppData\\Local\\Temp\\ipykernel_11212\\1042991553.py:11: FutureWarning: The frame.append method is deprecated and will be removed from pandas in a future version. Use pandas.concat instead.\n",
      "  opt = opt.append(temp, ignore_index=True)\n",
      "C:\\Users\\lisam\\AppData\\Local\\Temp\\ipykernel_11212\\1042991553.py:11: FutureWarning: The frame.append method is deprecated and will be removed from pandas in a future version. Use pandas.concat instead.\n",
      "  opt = opt.append(temp, ignore_index=True)\n",
      "C:\\Users\\lisam\\AppData\\Local\\Temp\\ipykernel_11212\\1042991553.py:11: FutureWarning: The frame.append method is deprecated and will be removed from pandas in a future version. Use pandas.concat instead.\n",
      "  opt = opt.append(temp, ignore_index=True)\n",
      "C:\\Users\\lisam\\AppData\\Local\\Temp\\ipykernel_11212\\1042991553.py:11: FutureWarning: The frame.append method is deprecated and will be removed from pandas in a future version. Use pandas.concat instead.\n",
      "  opt = opt.append(temp, ignore_index=True)\n",
      "C:\\Users\\lisam\\AppData\\Local\\Temp\\ipykernel_11212\\1042991553.py:11: FutureWarning: The frame.append method is deprecated and will be removed from pandas in a future version. Use pandas.concat instead.\n",
      "  opt = opt.append(temp, ignore_index=True)\n",
      "C:\\Users\\lisam\\AppData\\Local\\Temp\\ipykernel_11212\\1042991553.py:11: FutureWarning: The frame.append method is deprecated and will be removed from pandas in a future version. Use pandas.concat instead.\n",
      "  opt = opt.append(temp, ignore_index=True)\n",
      "C:\\Users\\lisam\\AppData\\Local\\Temp\\ipykernel_11212\\1042991553.py:11: FutureWarning: The frame.append method is deprecated and will be removed from pandas in a future version. Use pandas.concat instead.\n",
      "  opt = opt.append(temp, ignore_index=True)\n",
      "C:\\Users\\lisam\\AppData\\Local\\Temp\\ipykernel_11212\\1042991553.py:11: FutureWarning: The frame.append method is deprecated and will be removed from pandas in a future version. Use pandas.concat instead.\n",
      "  opt = opt.append(temp, ignore_index=True)\n",
      "C:\\Users\\lisam\\AppData\\Local\\Temp\\ipykernel_11212\\1042991553.py:11: FutureWarning: The frame.append method is deprecated and will be removed from pandas in a future version. Use pandas.concat instead.\n",
      "  opt = opt.append(temp, ignore_index=True)\n",
      "C:\\Users\\lisam\\AppData\\Local\\Temp\\ipykernel_11212\\1042991553.py:11: FutureWarning: The frame.append method is deprecated and will be removed from pandas in a future version. Use pandas.concat instead.\n",
      "  opt = opt.append(temp, ignore_index=True)\n",
      "C:\\Users\\lisam\\AppData\\Local\\Temp\\ipykernel_11212\\1042991553.py:11: FutureWarning: The frame.append method is deprecated and will be removed from pandas in a future version. Use pandas.concat instead.\n",
      "  opt = opt.append(temp, ignore_index=True)\n"
     ]
    },
    {
     "name": "stderr",
     "output_type": "stream",
     "text": [
      "C:\\Users\\lisam\\AppData\\Local\\Temp\\ipykernel_11212\\1042991553.py:11: FutureWarning: The frame.append method is deprecated and will be removed from pandas in a future version. Use pandas.concat instead.\n",
      "  opt = opt.append(temp, ignore_index=True)\n",
      "C:\\Users\\lisam\\AppData\\Local\\Temp\\ipykernel_11212\\1042991553.py:11: FutureWarning: The frame.append method is deprecated and will be removed from pandas in a future version. Use pandas.concat instead.\n",
      "  opt = opt.append(temp, ignore_index=True)\n",
      "C:\\Users\\lisam\\AppData\\Local\\Temp\\ipykernel_11212\\1042991553.py:11: FutureWarning: The frame.append method is deprecated and will be removed from pandas in a future version. Use pandas.concat instead.\n",
      "  opt = opt.append(temp, ignore_index=True)\n",
      "C:\\Users\\lisam\\AppData\\Local\\Temp\\ipykernel_11212\\1042991553.py:11: FutureWarning: The frame.append method is deprecated and will be removed from pandas in a future version. Use pandas.concat instead.\n",
      "  opt = opt.append(temp, ignore_index=True)\n",
      "C:\\Users\\lisam\\AppData\\Local\\Temp\\ipykernel_11212\\1042991553.py:11: FutureWarning: The frame.append method is deprecated and will be removed from pandas in a future version. Use pandas.concat instead.\n",
      "  opt = opt.append(temp, ignore_index=True)\n",
      "C:\\Users\\lisam\\AppData\\Local\\Temp\\ipykernel_11212\\1042991553.py:11: FutureWarning: The frame.append method is deprecated and will be removed from pandas in a future version. Use pandas.concat instead.\n",
      "  opt = opt.append(temp, ignore_index=True)\n",
      "C:\\Users\\lisam\\AppData\\Local\\Temp\\ipykernel_11212\\1042991553.py:11: FutureWarning: The frame.append method is deprecated and will be removed from pandas in a future version. Use pandas.concat instead.\n",
      "  opt = opt.append(temp, ignore_index=True)\n",
      "C:\\Users\\lisam\\AppData\\Local\\Temp\\ipykernel_11212\\1042991553.py:11: FutureWarning: The frame.append method is deprecated and will be removed from pandas in a future version. Use pandas.concat instead.\n",
      "  opt = opt.append(temp, ignore_index=True)\n",
      "C:\\Users\\lisam\\AppData\\Local\\Temp\\ipykernel_11212\\1042991553.py:11: FutureWarning: The frame.append method is deprecated and will be removed from pandas in a future version. Use pandas.concat instead.\n",
      "  opt = opt.append(temp, ignore_index=True)\n",
      "C:\\Users\\lisam\\AppData\\Local\\Temp\\ipykernel_11212\\1042991553.py:11: FutureWarning: The frame.append method is deprecated and will be removed from pandas in a future version. Use pandas.concat instead.\n",
      "  opt = opt.append(temp, ignore_index=True)\n",
      "C:\\Users\\lisam\\AppData\\Local\\Temp\\ipykernel_11212\\1042991553.py:11: FutureWarning: The frame.append method is deprecated and will be removed from pandas in a future version. Use pandas.concat instead.\n",
      "  opt = opt.append(temp, ignore_index=True)\n",
      "C:\\Users\\lisam\\AppData\\Local\\Temp\\ipykernel_11212\\1042991553.py:11: FutureWarning: The frame.append method is deprecated and will be removed from pandas in a future version. Use pandas.concat instead.\n",
      "  opt = opt.append(temp, ignore_index=True)\n",
      "C:\\Users\\lisam\\AppData\\Local\\Temp\\ipykernel_11212\\1042991553.py:11: FutureWarning: The frame.append method is deprecated and will be removed from pandas in a future version. Use pandas.concat instead.\n",
      "  opt = opt.append(temp, ignore_index=True)\n",
      "C:\\Users\\lisam\\AppData\\Local\\Temp\\ipykernel_11212\\1042991553.py:11: FutureWarning: The frame.append method is deprecated and will be removed from pandas in a future version. Use pandas.concat instead.\n",
      "  opt = opt.append(temp, ignore_index=True)\n",
      "C:\\Users\\lisam\\AppData\\Local\\Temp\\ipykernel_11212\\1042991553.py:11: FutureWarning: The frame.append method is deprecated and will be removed from pandas in a future version. Use pandas.concat instead.\n",
      "  opt = opt.append(temp, ignore_index=True)\n",
      "C:\\Users\\lisam\\AppData\\Local\\Temp\\ipykernel_11212\\1042991553.py:11: FutureWarning: The frame.append method is deprecated and will be removed from pandas in a future version. Use pandas.concat instead.\n",
      "  opt = opt.append(temp, ignore_index=True)\n",
      "C:\\Users\\lisam\\AppData\\Local\\Temp\\ipykernel_11212\\1042991553.py:11: FutureWarning: The frame.append method is deprecated and will be removed from pandas in a future version. Use pandas.concat instead.\n",
      "  opt = opt.append(temp, ignore_index=True)\n",
      "C:\\Users\\lisam\\AppData\\Local\\Temp\\ipykernel_11212\\1042991553.py:11: FutureWarning: The frame.append method is deprecated and will be removed from pandas in a future version. Use pandas.concat instead.\n",
      "  opt = opt.append(temp, ignore_index=True)\n",
      "C:\\Users\\lisam\\AppData\\Local\\Temp\\ipykernel_11212\\1042991553.py:11: FutureWarning: The frame.append method is deprecated and will be removed from pandas in a future version. Use pandas.concat instead.\n",
      "  opt = opt.append(temp, ignore_index=True)\n",
      "C:\\Users\\lisam\\AppData\\Local\\Temp\\ipykernel_11212\\1042991553.py:11: FutureWarning: The frame.append method is deprecated and will be removed from pandas in a future version. Use pandas.concat instead.\n",
      "  opt = opt.append(temp, ignore_index=True)\n",
      "C:\\Users\\lisam\\AppData\\Local\\Temp\\ipykernel_11212\\1042991553.py:11: FutureWarning: The frame.append method is deprecated and will be removed from pandas in a future version. Use pandas.concat instead.\n",
      "  opt = opt.append(temp, ignore_index=True)\n",
      "C:\\Users\\lisam\\AppData\\Local\\Temp\\ipykernel_11212\\1042991553.py:11: FutureWarning: The frame.append method is deprecated and will be removed from pandas in a future version. Use pandas.concat instead.\n",
      "  opt = opt.append(temp, ignore_index=True)\n",
      "C:\\Users\\lisam\\AppData\\Local\\Temp\\ipykernel_11212\\1042991553.py:11: FutureWarning: The frame.append method is deprecated and will be removed from pandas in a future version. Use pandas.concat instead.\n",
      "  opt = opt.append(temp, ignore_index=True)\n",
      "C:\\Users\\lisam\\AppData\\Local\\Temp\\ipykernel_11212\\1042991553.py:11: FutureWarning: The frame.append method is deprecated and will be removed from pandas in a future version. Use pandas.concat instead.\n",
      "  opt = opt.append(temp, ignore_index=True)\n",
      "C:\\Users\\lisam\\AppData\\Local\\Temp\\ipykernel_11212\\1042991553.py:11: FutureWarning: The frame.append method is deprecated and will be removed from pandas in a future version. Use pandas.concat instead.\n",
      "  opt = opt.append(temp, ignore_index=True)\n",
      "C:\\Users\\lisam\\AppData\\Local\\Temp\\ipykernel_11212\\1042991553.py:11: FutureWarning: The frame.append method is deprecated and will be removed from pandas in a future version. Use pandas.concat instead.\n",
      "  opt = opt.append(temp, ignore_index=True)\n",
      "C:\\Users\\lisam\\AppData\\Local\\Temp\\ipykernel_11212\\1042991553.py:11: FutureWarning: The frame.append method is deprecated and will be removed from pandas in a future version. Use pandas.concat instead.\n",
      "  opt = opt.append(temp, ignore_index=True)\n",
      "C:\\Users\\lisam\\AppData\\Local\\Temp\\ipykernel_11212\\1042991553.py:11: FutureWarning: The frame.append method is deprecated and will be removed from pandas in a future version. Use pandas.concat instead.\n",
      "  opt = opt.append(temp, ignore_index=True)\n",
      "C:\\Users\\lisam\\AppData\\Local\\Temp\\ipykernel_11212\\1042991553.py:11: FutureWarning: The frame.append method is deprecated and will be removed from pandas in a future version. Use pandas.concat instead.\n",
      "  opt = opt.append(temp, ignore_index=True)\n",
      "C:\\Users\\lisam\\AppData\\Local\\Temp\\ipykernel_11212\\1042991553.py:11: FutureWarning: The frame.append method is deprecated and will be removed from pandas in a future version. Use pandas.concat instead.\n",
      "  opt = opt.append(temp, ignore_index=True)\n",
      "C:\\Users\\lisam\\AppData\\Local\\Temp\\ipykernel_11212\\1042991553.py:11: FutureWarning: The frame.append method is deprecated and will be removed from pandas in a future version. Use pandas.concat instead.\n",
      "  opt = opt.append(temp, ignore_index=True)\n",
      "C:\\Users\\lisam\\AppData\\Local\\Temp\\ipykernel_11212\\1042991553.py:11: FutureWarning: The frame.append method is deprecated and will be removed from pandas in a future version. Use pandas.concat instead.\n",
      "  opt = opt.append(temp, ignore_index=True)\n"
     ]
    }
   ],
   "source": [
    "opt = pd.DataFrame(columns=['threshold', 'false_positive_rate'])\n",
    "\n",
    "for i in np.linspace(0.5,1,100):\n",
    "    result['threshold'] = i\n",
    "    result['prediction'] = np.where(result['fraud']>result['threshold'],1,0)\n",
    "    matrix = confusion_matrix(result['true'], result['prediction'])\n",
    "    FP = matrix[0,1]\n",
    "    TN = matrix[0,0]\n",
    "    false_positive_rate = (FP/(TN+FP))\n",
    "    temp = {'threshold': i, 'false_positive_rate': false_positive_rate}\n",
    "    opt = opt.append(temp, ignore_index=True)"
   ]
  },
  {
   "cell_type": "code",
   "execution_count": 93,
   "metadata": {},
   "outputs": [
    {
     "data": {
      "text/html": [
       "<div>\n",
       "<style scoped>\n",
       "    .dataframe tbody tr th:only-of-type {\n",
       "        vertical-align: middle;\n",
       "    }\n",
       "\n",
       "    .dataframe tbody tr th {\n",
       "        vertical-align: top;\n",
       "    }\n",
       "\n",
       "    .dataframe thead th {\n",
       "        text-align: right;\n",
       "    }\n",
       "</style>\n",
       "<table border=\"1\" class=\"dataframe\">\n",
       "  <thead>\n",
       "    <tr style=\"text-align: right;\">\n",
       "      <th></th>\n",
       "      <th>threshold</th>\n",
       "      <th>false_positive_rate</th>\n",
       "    </tr>\n",
       "  </thead>\n",
       "  <tbody>\n",
       "    <tr>\n",
       "      <th>18</th>\n",
       "      <td>0.590909</td>\n",
       "      <td>0.050523</td>\n",
       "    </tr>\n",
       "  </tbody>\n",
       "</table>\n",
       "</div>"
      ],
      "text/plain": [
       "   threshold false_positive_rate\n",
       "18  0.590909            0.050523"
      ]
     },
     "execution_count": 93,
     "metadata": {},
     "output_type": "execute_result"
    }
   ],
   "source": [
    "opt[(opt['false_positive_rate']<0.051) & (opt['false_positive_rate']>0.049)]"
   ]
  },
  {
   "cell_type": "markdown",
   "metadata": {
    "id": "aQa3sanl-XUk"
   },
   "source": [
    "# 7.) If the company makes .02*amt on True transactions and loses -amt on False (Use original data)"
   ]
  },
  {
   "cell_type": "code",
   "execution_count": 75,
   "metadata": {},
   "outputs": [
    {
     "name": "stderr",
     "output_type": "stream",
     "text": [
      "c:\\users\\lisam\\appdata\\local\\programs\\python\\python39\\lib\\site-packages\\sklearn\\base.py:443: UserWarning: X has feature names, but LogisticRegression was fitted without feature names\n",
      "  warnings.warn(\n"
     ]
    },
    {
     "data": {
      "text/html": [
       "<div>\n",
       "<style scoped>\n",
       "    .dataframe tbody tr th:only-of-type {\n",
       "        vertical-align: middle;\n",
       "    }\n",
       "\n",
       "    .dataframe tbody tr th {\n",
       "        vertical-align: top;\n",
       "    }\n",
       "\n",
       "    .dataframe thead th {\n",
       "        text-align: right;\n",
       "    }\n",
       "</style>\n",
       "<table border=\"1\" class=\"dataframe\">\n",
       "  <thead>\n",
       "    <tr style=\"text-align: right;\">\n",
       "      <th></th>\n",
       "      <th>not_fraud</th>\n",
       "      <th>fraud</th>\n",
       "      <th>pred</th>\n",
       "    </tr>\n",
       "  </thead>\n",
       "  <tbody>\n",
       "    <tr>\n",
       "      <th>0</th>\n",
       "      <td>1.0</td>\n",
       "      <td>0.000000e+00</td>\n",
       "      <td>0</td>\n",
       "    </tr>\n",
       "    <tr>\n",
       "      <th>1</th>\n",
       "      <td>1.0</td>\n",
       "      <td>7.775752e-45</td>\n",
       "      <td>0</td>\n",
       "    </tr>\n",
       "    <tr>\n",
       "      <th>2</th>\n",
       "      <td>1.0</td>\n",
       "      <td>1.373656e-217</td>\n",
       "      <td>0</td>\n",
       "    </tr>\n",
       "    <tr>\n",
       "      <th>3</th>\n",
       "      <td>1.0</td>\n",
       "      <td>2.121685e-307</td>\n",
       "      <td>0</td>\n",
       "    </tr>\n",
       "    <tr>\n",
       "      <th>4</th>\n",
       "      <td>1.0</td>\n",
       "      <td>9.636520e-74</td>\n",
       "      <td>0</td>\n",
       "    </tr>\n",
       "  </tbody>\n",
       "</table>\n",
       "</div>"
      ],
      "text/plain": [
       "   not_fraud          fraud  pred\n",
       "0        1.0   0.000000e+00     0\n",
       "1        1.0   7.775752e-45     0\n",
       "2        1.0  1.373656e-217     0\n",
       "3        1.0  2.121685e-307     0\n",
       "4        1.0   9.636520e-74     0"
      ]
     },
     "execution_count": 75,
     "metadata": {},
     "output_type": "execute_result"
    }
   ],
   "source": [
    "origdata = pd.DataFrame(log_reg.predict_proba(X))\n",
    "origdata.rename({0:'not_fraud', 1:'fraud'}, axis =1, inplace = True)\n",
    "origdata['pred'] = np.where(origdata['fraud']>origdata['not_fraud'],1,0)\n",
    "origdata.head()\n"
   ]
  },
  {
   "cell_type": "code",
   "execution_count": 76,
   "metadata": {},
   "outputs": [],
   "source": [
    "def rev(pred, true, trans, fee):\n",
    "  if pred == true:\n",
    "    return trans*fee\n",
    "\n",
    "  else:\n",
    "    return trans*-1\n",
    "\n",
    "     \n"
   ]
  },
  {
   "cell_type": "code",
   "execution_count": 77,
   "metadata": {},
   "outputs": [
    {
     "data": {
      "text/plain": [
       "-82057603.56859997"
      ]
     },
     "execution_count": 77,
     "metadata": {},
     "output_type": "execute_result"
    }
   ],
   "source": [
    "np.vectorize(rev)(origdata['pred'], y, X['amt'], 0.02).sum()\n"
   ]
  },
  {
   "cell_type": "code",
   "execution_count": null,
   "metadata": {
    "scrolled": true
   },
   "outputs": [],
   "source": [
    "rev = -1\n",
    "comm = 0.02\n",
    "\n",
    "while rev < 0:\n",
    "  for fee in np.linspace(0.02,0.5, 100):\n",
    "    rev = np.vectorize(rev)(origdata['pred'], y, X['amt'], comm).sum()\n",
    "    #rev = sum(rev)\n",
    "    \n",
    "else:\n",
    "  print(f'Revenue: {rev}, Commission: {fee}')"
   ]
  },
  {
   "cell_type": "markdown",
   "metadata": {
    "id": "qrlSpvEh-awn"
   },
   "source": [
    "# 8.) Using Logistic Regression Lasso to inform you. Would you use the selected features in a trusted prediction model?"
   ]
  },
  {
   "cell_type": "code",
   "execution_count": 118,
   "metadata": {
    "executionInfo": {
     "elapsed": 8,
     "status": "aborted",
     "timestamp": 1674872748033,
     "user": {
      "displayName": "Mohammed",
      "userId": "05482709744935226545"
     },
     "user_tz": 480
    },
    "id": "2a1u33ge-dqA"
   },
   "outputs": [],
   "source": [
    "logistic_lasso = LogisticRegression(\"l2\")\n"
   ]
  },
  {
   "cell_type": "code",
   "execution_count": 119,
   "metadata": {},
   "outputs": [],
   "source": [
    "log_lass_mod = logistic_lasso.fit(X,y)\n"
   ]
  },
  {
   "cell_type": "code",
   "execution_count": 121,
   "metadata": {
    "scrolled": true
   },
   "outputs": [
    {
     "name": "stderr",
     "output_type": "stream",
     "text": [
      "c:\\users\\lisam\\appdata\\local\\programs\\python\\python39\\lib\\site-packages\\sklearn\\utils\\deprecation.py:87: FutureWarning: Function plot_confusion_matrix is deprecated; Function `plot_confusion_matrix` is deprecated in 1.0 and will be removed in 1.2. Use one of the class methods: ConfusionMatrixDisplay.from_predictions or ConfusionMatrixDisplay.from_estimator.\n",
      "  warnings.warn(msg, category=FutureWarning)\n"
     ]
    },
    {
     "data": {
      "image/png": "[encoded data removed]",
      "text/plain": [
       "<Figure size 432x288 with 2 Axes>"
      ]
     },
     "metadata": {
      "needs_background": "light"
     },
     "output_type": "display_data"
    }
   ],
   "source": [
    "plot_confusion_matrix(log_lass_mod, X, y)\n",
    "plt.show()"
   ]
  },
  {
   "cell_type": "markdown",
   "metadata": {},
   "source": [
    "This model should not be trusted as it has a high false positive rate."
   ]
  },
  {
   "cell_type": "code",
   "execution_count": 126,
   "metadata": {},
   "outputs": [
    {
     "data": {
      "text/plain": [
       "0.8317153623544459"
      ]
     },
     "execution_count": 126,
     "metadata": {},
     "output_type": "execute_result"
    }
   ],
   "source": [
    "false_positive_rate = (460416/(93158+460416))\n",
    "false_positive_rate"
   ]
  }
 ],
 "metadata": {
  "colab": {
   "provenance": []
  },
  "kernelspec": {
   "display_name": "Python 3 (ipykernel)",
   "language": "python",
   "name": "python3"
  },
  "language_info": {
   "codemirror_mode": {
    "name": "ipython",
    "version": 3
   },
   "file_extension": ".py",
   "mimetype": "text/x-python",
   "name": "python",
   "nbconvert_exporter": "python",
   "pygments_lexer": "ipython3",
   "version": "3.9.6"
  }
 },
 "nbformat": 4,
 "nbformat_minor": 1
}
