{
  "nbformat": 4,
  "nbformat_minor": 0,
  "metadata": {
    "colab": {
      "provenance": []
    },
    "kernelspec": {
      "name": "python3",
      "display_name": "Python 3"
    },
    "language_info": {
      "name": "python"
    }
  },
  "cells": [
    {
      "cell_type": "code",
      "execution_count": 1,
      "metadata": {
        "id": "XCWNtIvwgpd3"
      },
      "outputs": [],
      "source": [
        "import pandas as pd\n",
        "from google.colab import drive"
      ]
    },
    {
      "cell_type": "code",
      "source": [
        "import matplotlib.pyplot as plt\n"
      ],
      "metadata": {
        "id": "1DxDq0uDjFnf"
      },
      "execution_count": 7,
      "outputs": []
    },
    {
      "cell_type": "code",
      "source": [
        "drive.mount('/content/gdrive/', force_remount=True)"
      ],
      "metadata": {
        "colab": {
          "base_uri": "https://localhost:8080/"
        },
        "id": "RdfUUmYViSrj",
        "outputId": "18bf1e05-73ee-4313-ae6e-b1a06a6b0057"
      },
      "execution_count": 5,
      "outputs": [
        {
          "output_type": "stream",
          "name": "stdout",
          "text": [
            "Mounted at /content/gdrive/\n"
          ]
        }
      ]
    },
    {
      "cell_type": "code",
      "source": [
        "df = pd.read_csv('/content/gdrive/MyDrive/ECON441B/houset.csv')"
      ],
      "metadata": {
        "id": "_AfnOsILg--X"
      },
      "execution_count": 6,
      "outputs": []
    },
    {
      "cell_type": "code",
      "source": [
        "df.head()"
      ],
      "metadata": {
        "colab": {
          "base_uri": "https://localhost:8080/",
          "height": 288
        },
        "id": "2D29XP4nhfAa",
        "outputId": "329bc361-8848-4002-b641-7ca34ec0b115"
      },
      "execution_count": 9,
      "outputs": [
        {
          "output_type": "execute_result",
          "data": {
            "text/plain": [
              "   Unnamed: 0  tMedian_House_Value  tMedian_Income  tMedian_Age  tTot_Rooms  \\\n",
              "0           0            32.675418        2.337069    23.723216   15.706729   \n",
              "1           1            31.509297        2.333598    13.286954   27.556487   \n",
              "2           2            31.420577        2.171691    29.017459   18.123797   \n",
              "3           3            31.267611        1.873879    29.017459   17.429179   \n",
              "4           4            31.280519        1.432988    29.017459   18.647499   \n",
              "\n",
              "   tTot_Bedrooms  tPopulation  tHouseholds  tLatitude  tDistance_to_coast  \\\n",
              "0       8.803132    12.308116     9.264721   0.191729            9.888965   \n",
              "1      17.015652    22.335341    18.799348   0.191729           10.004726   \n",
              "2      10.006475    14.082654    10.423372   0.191729            9.754899   \n",
              "3      10.712866    14.598635    11.199954   0.191729            9.683381   \n",
              "4      11.320973    14.654092    11.840977   0.191729            9.683381   \n",
              "\n",
              "   tDistance_to_LA  tDistance_to_SanDiego  tDistance_to_SanJose  \\\n",
              "0        85.240756             724.985730           3128.295702   \n",
              "1        85.158000             724.034439           3051.504558   \n",
              "2        85.170190             724.155831           3045.583193   \n",
              "3        85.191674             724.395177           3059.188999   \n",
              "4        85.191674             724.395177           3059.188999   \n",
              "\n",
              "   tDistance_to_SanFrancisco  \n",
              "0                1018.672054  \n",
              "1                1007.059914  \n",
              "2                 940.679556  \n",
              "3                 914.989563  \n",
              "4                 914.989563  "
            ],
            "text/html": [
              "\n",
              "  <div id=\"df-36d09bf5-70e7-47a0-805a-7d14f10adb73\">\n",
              "    <div class=\"colab-df-container\">\n",
              "      <div>\n",
              "<style scoped>\n",
              "    .dataframe tbody tr th:only-of-type {\n",
              "        vertical-align: middle;\n",
              "    }\n",
              "\n",
              "    .dataframe tbody tr th {\n",
              "        vertical-align: top;\n",
              "    }\n",
              "\n",
              "    .dataframe thead th {\n",
              "        text-align: right;\n",
              "    }\n",
              "</style>\n",
              "<table border=\"1\" class=\"dataframe\">\n",
              "  <thead>\n",
              "    <tr style=\"text-align: right;\">\n",
              "      <th></th>\n",
              "      <th>Unnamed: 0</th>\n",
              "      <th>tMedian_House_Value</th>\n",
              "      <th>tMedian_Income</th>\n",
              "      <th>tMedian_Age</th>\n",
              "      <th>tTot_Rooms</th>\n",
              "      <th>tTot_Bedrooms</th>\n",
              "      <th>tPopulation</th>\n",
              "      <th>tHouseholds</th>\n",
              "      <th>tLatitude</th>\n",
              "      <th>tDistance_to_coast</th>\n",
              "      <th>tDistance_to_LA</th>\n",
              "      <th>tDistance_to_SanDiego</th>\n",
              "      <th>tDistance_to_SanJose</th>\n",
              "      <th>tDistance_to_SanFrancisco</th>\n",
              "    </tr>\n",
              "  </thead>\n",
              "  <tbody>\n",
              "    <tr>\n",
              "      <th>0</th>\n",
              "      <td>0</td>\n",
              "      <td>32.675418</td>\n",
              "      <td>2.337069</td>\n",
              "      <td>23.723216</td>\n",
              "      <td>15.706729</td>\n",
              "      <td>8.803132</td>\n",
              "      <td>12.308116</td>\n",
              "      <td>9.264721</td>\n",
              "      <td>0.191729</td>\n",
              "      <td>9.888965</td>\n",
              "      <td>85.240756</td>\n",
              "      <td>724.985730</td>\n",
              "      <td>3128.295702</td>\n",
              "      <td>1018.672054</td>\n",
              "    </tr>\n",
              "    <tr>\n",
              "      <th>1</th>\n",
              "      <td>1</td>\n",
              "      <td>31.509297</td>\n",
              "      <td>2.333598</td>\n",
              "      <td>13.286954</td>\n",
              "      <td>27.556487</td>\n",
              "      <td>17.015652</td>\n",
              "      <td>22.335341</td>\n",
              "      <td>18.799348</td>\n",
              "      <td>0.191729</td>\n",
              "      <td>10.004726</td>\n",
              "      <td>85.158000</td>\n",
              "      <td>724.034439</td>\n",
              "      <td>3051.504558</td>\n",
              "      <td>1007.059914</td>\n",
              "    </tr>\n",
              "    <tr>\n",
              "      <th>2</th>\n",
              "      <td>2</td>\n",
              "      <td>31.420577</td>\n",
              "      <td>2.171691</td>\n",
              "      <td>29.017459</td>\n",
              "      <td>18.123797</td>\n",
              "      <td>10.006475</td>\n",
              "      <td>14.082654</td>\n",
              "      <td>10.423372</td>\n",
              "      <td>0.191729</td>\n",
              "      <td>9.754899</td>\n",
              "      <td>85.170190</td>\n",
              "      <td>724.155831</td>\n",
              "      <td>3045.583193</td>\n",
              "      <td>940.679556</td>\n",
              "    </tr>\n",
              "    <tr>\n",
              "      <th>3</th>\n",
              "      <td>3</td>\n",
              "      <td>31.267611</td>\n",
              "      <td>1.873879</td>\n",
              "      <td>29.017459</td>\n",
              "      <td>17.429179</td>\n",
              "      <td>10.712866</td>\n",
              "      <td>14.598635</td>\n",
              "      <td>11.199954</td>\n",
              "      <td>0.191729</td>\n",
              "      <td>9.683381</td>\n",
              "      <td>85.191674</td>\n",
              "      <td>724.395177</td>\n",
              "      <td>3059.188999</td>\n",
              "      <td>914.989563</td>\n",
              "    </tr>\n",
              "    <tr>\n",
              "      <th>4</th>\n",
              "      <td>4</td>\n",
              "      <td>31.280519</td>\n",
              "      <td>1.432988</td>\n",
              "      <td>29.017459</td>\n",
              "      <td>18.647499</td>\n",
              "      <td>11.320973</td>\n",
              "      <td>14.654092</td>\n",
              "      <td>11.840977</td>\n",
              "      <td>0.191729</td>\n",
              "      <td>9.683381</td>\n",
              "      <td>85.191674</td>\n",
              "      <td>724.395177</td>\n",
              "      <td>3059.188999</td>\n",
              "      <td>914.989563</td>\n",
              "    </tr>\n",
              "  </tbody>\n",
              "</table>\n",
              "</div>\n",
              "      <button class=\"colab-df-convert\" onclick=\"convertToInteractive('df-36d09bf5-70e7-47a0-805a-7d14f10adb73')\"\n",
              "              title=\"Convert this dataframe to an interactive table.\"\n",
              "              style=\"display:none;\">\n",
              "        \n",
              "  <svg xmlns=\"http://www.w3.org/2000/svg\" height=\"24px\"viewBox=\"0 0 24 24\"\n",
              "       width=\"24px\">\n",
              "    <path d=\"M0 0h24v24H0V0z\" fill=\"none\"/>\n",
              "    <path d=\"M18.56 5.44l.94 2.06.94-2.06 2.06-.94-2.06-.94-.94-2.06-.94 2.06-2.06.94zm-11 1L8.5 8.5l.94-2.06 2.06-.94-2.06-.94L8.5 2.5l-.94 2.06-2.06.94zm10 10l.94 2.06.94-2.06 2.06-.94-2.06-.94-.94-2.06-.94 2.06-2.06.94z\"/><path d=\"M17.41 7.96l-1.37-1.37c-.4-.4-.92-.59-1.43-.59-.52 0-1.04.2-1.43.59L10.3 9.45l-7.72 7.72c-.78.78-.78 2.05 0 2.83L4 21.41c.39.39.9.59 1.41.59.51 0 1.02-.2 1.41-.59l7.78-7.78 2.81-2.81c.8-.78.8-2.07 0-2.86zM5.41 20L4 18.59l7.72-7.72 1.47 1.35L5.41 20z\"/>\n",
              "  </svg>\n",
              "      </button>\n",
              "      \n",
              "  <style>\n",
              "    .colab-df-container {\n",
              "      display:flex;\n",
              "      flex-wrap:wrap;\n",
              "      gap: 12px;\n",
              "    }\n",
              "\n",
              "    .colab-df-convert {\n",
              "      background-color: #E8F0FE;\n",
              "      border: none;\n",
              "      border-radius: 50%;\n",
              "      cursor: pointer;\n",
              "      display: none;\n",
              "      fill: #1967D2;\n",
              "      height: 32px;\n",
              "      padding: 0 0 0 0;\n",
              "      width: 32px;\n",
              "    }\n",
              "\n",
              "    .colab-df-convert:hover {\n",
              "      background-color: #E2EBFA;\n",
              "      box-shadow: 0px 1px 2px rgba(60, 64, 67, 0.3), 0px 1px 3px 1px rgba(60, 64, 67, 0.15);\n",
              "      fill: #174EA6;\n",
              "    }\n",
              "\n",
              "    [theme=dark] .colab-df-convert {\n",
              "      background-color: #3B4455;\n",
              "      fill: #D2E3FC;\n",
              "    }\n",
              "\n",
              "    [theme=dark] .colab-df-convert:hover {\n",
              "      background-color: #434B5C;\n",
              "      box-shadow: 0px 1px 3px 1px rgba(0, 0, 0, 0.15);\n",
              "      filter: drop-shadow(0px 1px 2px rgba(0, 0, 0, 0.3));\n",
              "      fill: #FFFFFF;\n",
              "    }\n",
              "  </style>\n",
              "\n",
              "      <script>\n",
              "        const buttonEl =\n",
              "          document.querySelector('#df-36d09bf5-70e7-47a0-805a-7d14f10adb73 button.colab-df-convert');\n",
              "        buttonEl.style.display =\n",
              "          google.colab.kernel.accessAllowed ? 'block' : 'none';\n",
              "\n",
              "        async function convertToInteractive(key) {\n",
              "          const element = document.querySelector('#df-36d09bf5-70e7-47a0-805a-7d14f10adb73');\n",
              "          const dataTable =\n",
              "            await google.colab.kernel.invokeFunction('convertToInteractive',\n",
              "                                                     [key], {});\n",
              "          if (!dataTable) return;\n",
              "\n",
              "          const docLinkHtml = 'Like what you see? Visit the ' +\n",
              "            '<a target=\"_blank\" href=https://colab.research.google.com/notebooks/data_table.ipynb>data table notebook</a>'\n",
              "            + ' to learn more about interactive tables.';\n",
              "          element.innerHTML = '';\n",
              "          dataTable['output_type'] = 'display_data';\n",
              "          await google.colab.output.renderOutput(dataTable, element);\n",
              "          const docLink = document.createElement('div');\n",
              "          docLink.innerHTML = docLinkHtml;\n",
              "          element.appendChild(docLink);\n",
              "        }\n",
              "      </script>\n",
              "    </div>\n",
              "  </div>\n",
              "  "
            ]
          },
          "metadata": {},
          "execution_count": 9
        }
      ]
    },
    {
      "cell_type": "code",
      "source": [
        "df2 = df[['tMedian_House_Value','tMedian_Income']]"
      ],
      "metadata": {
        "id": "pv9JaP9NjoXp"
      },
      "execution_count": 11,
      "outputs": []
    },
    {
      "cell_type": "code",
      "source": [
        "df2.head()"
      ],
      "metadata": {
        "colab": {
          "base_uri": "https://localhost:8080/",
          "height": 206
        },
        "id": "NLRKgVVrjz-8",
        "outputId": "f708274a-3ece-4678-eed0-9fe9cd452e58"
      },
      "execution_count": 12,
      "outputs": [
        {
          "output_type": "execute_result",
          "data": {
            "text/plain": [
              "   tMedian_House_Value  tMedian_Income\n",
              "0            32.675418        2.337069\n",
              "1            31.509297        2.333598\n",
              "2            31.420577        2.171691\n",
              "3            31.267611        1.873879\n",
              "4            31.280519        1.432988"
            ],
            "text/html": [
              "\n",
              "  <div id=\"df-b0deba46-6600-4201-a8b7-6d0470cc8301\">\n",
              "    <div class=\"colab-df-container\">\n",
              "      <div>\n",
              "<style scoped>\n",
              "    .dataframe tbody tr th:only-of-type {\n",
              "        vertical-align: middle;\n",
              "    }\n",
              "\n",
              "    .dataframe tbody tr th {\n",
              "        vertical-align: top;\n",
              "    }\n",
              "\n",
              "    .dataframe thead th {\n",
              "        text-align: right;\n",
              "    }\n",
              "</style>\n",
              "<table border=\"1\" class=\"dataframe\">\n",
              "  <thead>\n",
              "    <tr style=\"text-align: right;\">\n",
              "      <th></th>\n",
              "      <th>tMedian_House_Value</th>\n",
              "      <th>tMedian_Income</th>\n",
              "    </tr>\n",
              "  </thead>\n",
              "  <tbody>\n",
              "    <tr>\n",
              "      <th>0</th>\n",
              "      <td>32.675418</td>\n",
              "      <td>2.337069</td>\n",
              "    </tr>\n",
              "    <tr>\n",
              "      <th>1</th>\n",
              "      <td>31.509297</td>\n",
              "      <td>2.333598</td>\n",
              "    </tr>\n",
              "    <tr>\n",
              "      <th>2</th>\n",
              "      <td>31.420577</td>\n",
              "      <td>2.171691</td>\n",
              "    </tr>\n",
              "    <tr>\n",
              "      <th>3</th>\n",
              "      <td>31.267611</td>\n",
              "      <td>1.873879</td>\n",
              "    </tr>\n",
              "    <tr>\n",
              "      <th>4</th>\n",
              "      <td>31.280519</td>\n",
              "      <td>1.432988</td>\n",
              "    </tr>\n",
              "  </tbody>\n",
              "</table>\n",
              "</div>\n",
              "      <button class=\"colab-df-convert\" onclick=\"convertToInteractive('df-b0deba46-6600-4201-a8b7-6d0470cc8301')\"\n",
              "              title=\"Convert this dataframe to an interactive table.\"\n",
              "              style=\"display:none;\">\n",
              "        \n",
              "  <svg xmlns=\"http://www.w3.org/2000/svg\" height=\"24px\"viewBox=\"0 0 24 24\"\n",
              "       width=\"24px\">\n",
              "    <path d=\"M0 0h24v24H0V0z\" fill=\"none\"/>\n",
              "    <path d=\"M18.56 5.44l.94 2.06.94-2.06 2.06-.94-2.06-.94-.94-2.06-.94 2.06-2.06.94zm-11 1L8.5 8.5l.94-2.06 2.06-.94-2.06-.94L8.5 2.5l-.94 2.06-2.06.94zm10 10l.94 2.06.94-2.06 2.06-.94-2.06-.94-.94-2.06-.94 2.06-2.06.94z\"/><path d=\"M17.41 7.96l-1.37-1.37c-.4-.4-.92-.59-1.43-.59-.52 0-1.04.2-1.43.59L10.3 9.45l-7.72 7.72c-.78.78-.78 2.05 0 2.83L4 21.41c.39.39.9.59 1.41.59.51 0 1.02-.2 1.41-.59l7.78-7.78 2.81-2.81c.8-.78.8-2.07 0-2.86zM5.41 20L4 18.59l7.72-7.72 1.47 1.35L5.41 20z\"/>\n",
              "  </svg>\n",
              "      </button>\n",
              "      \n",
              "  <style>\n",
              "    .colab-df-container {\n",
              "      display:flex;\n",
              "      flex-wrap:wrap;\n",
              "      gap: 12px;\n",
              "    }\n",
              "\n",
              "    .colab-df-convert {\n",
              "      background-color: #E8F0FE;\n",
              "      border: none;\n",
              "      border-radius: 50%;\n",
              "      cursor: pointer;\n",
              "      display: none;\n",
              "      fill: #1967D2;\n",
              "      height: 32px;\n",
              "      padding: 0 0 0 0;\n",
              "      width: 32px;\n",
              "    }\n",
              "\n",
              "    .colab-df-convert:hover {\n",
              "      background-color: #E2EBFA;\n",
              "      box-shadow: 0px 1px 2px rgba(60, 64, 67, 0.3), 0px 1px 3px 1px rgba(60, 64, 67, 0.15);\n",
              "      fill: #174EA6;\n",
              "    }\n",
              "\n",
              "    [theme=dark] .colab-df-convert {\n",
              "      background-color: #3B4455;\n",
              "      fill: #D2E3FC;\n",
              "    }\n",
              "\n",
              "    [theme=dark] .colab-df-convert:hover {\n",
              "      background-color: #434B5C;\n",
              "      box-shadow: 0px 1px 3px 1px rgba(0, 0, 0, 0.15);\n",
              "      filter: drop-shadow(0px 1px 2px rgba(0, 0, 0, 0.3));\n",
              "      fill: #FFFFFF;\n",
              "    }\n",
              "  </style>\n",
              "\n",
              "      <script>\n",
              "        const buttonEl =\n",
              "          document.querySelector('#df-b0deba46-6600-4201-a8b7-6d0470cc8301 button.colab-df-convert');\n",
              "        buttonEl.style.display =\n",
              "          google.colab.kernel.accessAllowed ? 'block' : 'none';\n",
              "\n",
              "        async function convertToInteractive(key) {\n",
              "          const element = document.querySelector('#df-b0deba46-6600-4201-a8b7-6d0470cc8301');\n",
              "          const dataTable =\n",
              "            await google.colab.kernel.invokeFunction('convertToInteractive',\n",
              "                                                     [key], {});\n",
              "          if (!dataTable) return;\n",
              "\n",
              "          const docLinkHtml = 'Like what you see? Visit the ' +\n",
              "            '<a target=\"_blank\" href=https://colab.research.google.com/notebooks/data_table.ipynb>data table notebook</a>'\n",
              "            + ' to learn more about interactive tables.';\n",
              "          element.innerHTML = '';\n",
              "          dataTable['output_type'] = 'display_data';\n",
              "          await google.colab.output.renderOutput(dataTable, element);\n",
              "          const docLink = document.createElement('div');\n",
              "          docLink.innerHTML = docLinkHtml;\n",
              "          element.appendChild(docLink);\n",
              "        }\n",
              "      </script>\n",
              "    </div>\n",
              "  </div>\n",
              "  "
            ]
          },
          "metadata": {},
          "execution_count": 12
        }
      ]
    },
    {
      "cell_type": "code",
      "source": [
        "plt.scatter(df2['tMedian_Income'],df2['tMedian_House_Value'])\n",
        "\n",
        "plt.xlabel('Log Median Income')\n",
        "plt.ylabel('Log Median House Price')\n",
        "plt.title('Log Median Income vs Log Median House Price')\n",
        "plt.show()\n"
      ],
      "metadata": {
        "colab": {
          "base_uri": "https://localhost:8080/",
          "height": 295
        },
        "id": "paVQ4tTHodoj",
        "outputId": "8d39e74a-698f-449a-d547-a4b0b90b898f"
      },
      "execution_count": 20,
      "outputs": [
        {
          "output_type": "display_data",
          "data": {
            "text/plain": [
              "<Figure size 432x288 with 1 Axes>"
            ],
            "image/png": "[encoded data removed]"
          },
          "metadata": {
            "needs_background": "light"
          }
        }
      ]
    },
    {
      "cell_type": "markdown",
      "source": [
        "From the plot above, we see a strong positive correlation between the median income in an area and the house prices in that area. "
      ],
      "metadata": {
        "id": "EsX7y0u7o8Iu"
      }
    }
  ]
}