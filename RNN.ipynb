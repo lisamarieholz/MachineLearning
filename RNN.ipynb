{
  "cells": [
    {
      "cell_type": "markdown",
      "metadata": {
        "id": "view-in-github",
        "colab_type": "text"
      },
      "source": [
        "<a href=\"https://colab.research.google.com/github/lisamarieholz/MachineLearning/blob/main/RNN.ipynb\" target=\"_parent\"><img src=\"https://colab.research.google.com/assets/colab-badge.svg\" alt=\"Open In Colab\"/></a>"
      ]
    },
    {
      "cell_type": "markdown",
      "metadata": {
        "id": "6dJuZDx9qWeM"
      },
      "source": [
        "# 1.) Import an asset price from Yahoo Finance"
      ]
    },
    {
      "cell_type": "code",
      "execution_count": null,
      "metadata": {
        "colab": {
          "base_uri": "https://localhost:8080/"
        },
        "id": "Y3bcwJb4rp93",
        "outputId": "6488930e-f8a4-4ecb-a3ce-cc73d755672d"
      },
      "outputs": [
        {
          "name": "stdout",
          "output_type": "stream",
          "text": [
            "[*********************100%***********************]  1 of 1 completed\n"
          ]
        }
      ],
      "source": [
        "import yfinance as yf\n",
        "import numpy as np\n",
        "import pandas as pd\n",
        "from sklearn.preprocessing import MinMaxScaler\n",
        "from tensorflow.keras.models import Sequential\n",
        "from tensorflow.keras.layers import Dense, LSTM, Dropout\n",
        "from sklearn.metrics import confusion_matrix, accuracy_score, plot_confusion_matrix, classification_report\n",
        "import seaborn as sns\n",
        "import matplotlib.pyplot as plt\n",
        "\n",
        "########################################\n",
        "####Pick your ticker and time period####\n",
        "########################################\n",
        "stock_data = yf.download(\"TSLA\", start=\"2021-01-01\", end=\"2022-02-21\")\n",
        "\n",
        "# Preprocess data\n",
        "scaled_data = np.array(stock_data[\"Close\"].pct_change().dropna()).reshape(-1,1)\n",
        "\n",
        "\n",
        "# Split data into training and test sets\n",
        "training_data_len = int(len(scaled_data) * 0.8)\n",
        "train_data = scaled_data[0:training_data_len, :]\n"
      ]
    },
    {
      "cell_type": "markdown",
      "metadata": {
        "id": "foHoGy9hq3_o"
      },
      "source": [
        "# 2.) Create your x_train/y_train data so that your RNN uses percentage change data to make a binary forecast where the stock moves up or down the next day"
      ]
    },
    {
      "cell_type": "code",
      "execution_count": null,
      "metadata": {
        "id": "5qGFB5HfqcVd"
      },
      "outputs": [],
      "source": [
        "x_train = []\n",
        "y_train = []\n",
        "\n",
        "#############################################################\n",
        "####Pick your input size and edit to make binary forecast####\n",
        "#############################################################\n",
        "input_size = 7\n",
        "for i in range(input_size, len(train_data)):\n",
        "    x_train.append(train_data[i-input_size:i, 0])\n",
        "    y_train.append(train_data[i, 0])\n",
        "\n",
        "x_train, y_train = np.array(x_train), np.array(y_train)\n",
        "x_train = np.reshape(x_train, (x_train.shape[0], x_train.shape[1], 1))"
      ]
    },
    {
      "cell_type": "markdown",
      "metadata": {
        "id": "sQ1S-beG9XEe"
      },
      "source": [
        "Random Walk:"
      ]
    },
    {
      "cell_type": "code",
      "execution_count": null,
      "metadata": {
        "id": "8QgXoH7H9XEf"
      },
      "outputs": [],
      "source": [
        "m = y_train.mean()\n",
        "v = y_train.std()\n",
        "random_walk_returns = np.random.normal(m,v,len(x_train))"
      ]
    },
    {
      "cell_type": "code",
      "execution_count": null,
      "metadata": {
        "id": "UPuyBvwH9XEg",
        "outputId": "577c4e30-6908-4fdc-d59a-958d65f795e1"
      },
      "outputs": [
        {
          "data": {
            "text/plain": [
              "array([ 0.00681296,  0.00721413,  0.01511529,  0.00802137, -0.01910635,\n",
              "       -0.01180085,  0.02960743, -0.02341291,  0.0657853 ,  0.00721134,\n",
              "       -0.06802758, -0.02881636, -0.03169933,  0.00095058, -0.00346719,\n",
              "       -0.02566954,  0.02814583, -0.03987599, -0.01605593, -0.02160586,\n",
              "        0.0108184 ,  0.05223489,  0.01493185,  0.04873119,  0.07974875,\n",
              "       -0.04373887,  0.04671828,  0.03312846,  0.03658559,  0.00381616,\n",
              "        0.00653278,  0.03074905,  0.02622906, -0.01498023, -0.00769834,\n",
              "        0.06423701, -0.00365715,  0.05393482, -0.08285196,  0.04153427,\n",
              "       -0.10382041,  0.06270229, -0.03199845, -0.02550431, -0.0094304 ,\n",
              "        0.01495456, -0.04681979, -0.00204566, -0.06704421,  0.00298509,\n",
              "        0.04549169,  0.02248133, -0.03343031, -0.03032782, -0.04535169,\n",
              "        0.03010901,  0.03768977, -0.04123241, -0.01070568, -0.02109744,\n",
              "       -0.00270463, -0.05628958,  0.02776899, -0.04672984, -0.02374097,\n",
              "       -0.00472798,  0.03836699,  0.01560956, -0.01180675, -0.00869824,\n",
              "        0.02056612, -0.03742902, -0.01107308, -0.03387746,  0.01158106,\n",
              "       -0.0168909 , -0.00207469, -0.03034745,  0.05100835,  0.04003036,\n",
              "        0.0053522 ,  0.01982067,  0.0070554 , -0.01790945,  0.0104499 ,\n",
              "        0.0102697 , -0.02490238, -0.05978322, -0.01689351,  0.00308735,\n",
              "       -0.0007762 , -0.00851083,  0.00728086,  0.03313974, -0.01009274,\n",
              "        0.01629249,  0.02759786, -0.02537793,  0.03308288, -0.04979234,\n",
              "       -0.02977559, -0.04151788,  0.02364528, -0.0288102 , -0.03838554,\n",
              "       -0.00022238,  0.02052278, -0.0073879 , -0.017584  , -0.03405833,\n",
              "        0.00563425, -0.02594374, -0.05369098,  0.00505941,  0.0458502 ,\n",
              "       -0.00388753,  0.08516355, -0.03131761,  0.00767727,  0.03803349,\n",
              "       -0.0518707 , -0.02058405,  0.02188458,  0.02740835, -0.00227356,\n",
              "       -0.05293237, -0.02842989, -0.00088667,  0.00120428,  0.05777807,\n",
              "       -0.014593  , -0.01406845, -0.01625545,  0.02388453, -0.04447108,\n",
              "       -0.04882889,  0.05090603, -0.02711957, -0.03114005, -0.02218305,\n",
              "        0.03687346,  0.04832589,  0.00823093,  0.03583692,  0.03212398,\n",
              "       -0.00488572, -0.00131952,  0.0139682 ,  0.00965853,  0.03337946,\n",
              "        0.00737638,  0.00568854,  0.03492096,  0.02301992, -0.0293955 ,\n",
              "       -0.01315824, -0.03575236, -0.00186792,  0.01101345,  0.05216137,\n",
              "       -0.01710358, -0.02016642,  0.01916161, -0.01386121,  0.0060424 ,\n",
              "       -0.02645821, -0.02461079,  0.02029422, -0.03309713, -0.03444224,\n",
              "       -0.01916687, -0.00842873, -0.0222609 , -0.00456351, -0.00737521,\n",
              "       -0.0287739 , -0.01070334, -0.03261619,  0.0397607 , -0.00224047,\n",
              "        0.04715767,  0.01498724, -0.02394585,  0.01570691, -0.00082016,\n",
              "        0.07191197,  0.01091169, -0.01013367,  0.02737795, -0.04029329,\n",
              "       -0.01969465,  0.0248698 , -0.03985586, -0.03610555,  0.0256884 ,\n",
              "        0.00690975, -0.0105694 , -0.031739  ,  0.01131836, -0.00284171,\n",
              "       -0.04923752, -0.01281149,  0.0386016 ,  0.01189217, -0.00297705,\n",
              "       -0.01880196, -0.04237492,  0.00311309,  0.02431386,  0.04482959,\n",
              "        0.01140802,  0.00515363,  0.06847674, -0.00478839, -0.01184677,\n",
              "        0.00846485,  0.01128682,  0.02604925, -0.00698121, -0.00105916,\n",
              "       -0.038316  ])"
            ]
          },
          "execution_count": 10,
          "metadata": {},
          "output_type": "execute_result"
        }
      ],
      "source": [
        "random_walk_returns"
      ]
    },
    {
      "cell_type": "code",
      "execution_count": null,
      "metadata": {
        "id": "hoyNm-3m9XEi"
      },
      "outputs": [],
      "source": [
        "in_samp_df = pd.DataFrame(random_walk_returns, columns=['random_walk_returns'])\n",
        "in_samp_df['random_walk_returns'] = np.where(in_samp_df['random_walk_returns']>0,1,0)"
      ]
    },
    {
      "cell_type": "markdown",
      "metadata": {
        "id": "IWdc6ZnZ9XEj"
      },
      "source": [
        "Binary outcomes:"
      ]
    },
    {
      "cell_type": "code",
      "execution_count": null,
      "metadata": {
        "id": "eabcpDHn9XEk"
      },
      "outputs": [],
      "source": [
        "y = pd.DataFrame(y_train, columns=['y_train'])\n",
        "y['y_train'] = np.where(y['y_train']>0,1,0)\n",
        "y_train = np.array(y)"
      ]
    },
    {
      "cell_type": "markdown",
      "metadata": {
        "id": "rgQmwwQw9XEl"
      },
      "source": [
        "LSTM Model:"
      ]
    },
    {
      "cell_type": "code",
      "execution_count": null,
      "metadata": {
        "id": "p3BlSFA8Na77",
        "outputId": "48acc97a-28c7-4381-857f-77f7ed39be2b"
      },
      "outputs": [
        {
          "name": "stdout",
          "output_type": "stream",
          "text": [
            "Epoch 1/15\n",
            "7/7 [==============================] - 16s 29ms/step - loss: 0.6937 - auc: 0.5049\n",
            "Epoch 2/15\n",
            "7/7 [==============================] - 0s 24ms/step - loss: 0.6924 - auc: 0.5349\n",
            "Epoch 3/15\n",
            "7/7 [==============================] - 0s 25ms/step - loss: 0.6912 - auc: 0.5047\n",
            "Epoch 4/15\n",
            "7/7 [==============================] - 0s 24ms/step - loss: 0.6905 - auc: 0.4829\n",
            "Epoch 5/15\n",
            "7/7 [==============================] - 0s 24ms/step - loss: 0.6904 - auc: 0.4652\n",
            "Epoch 6/15\n",
            "7/7 [==============================] - 0s 25ms/step - loss: 0.6904 - auc: 0.5098\n",
            "Epoch 7/15\n",
            "7/7 [==============================] - 0s 23ms/step - loss: 0.6905 - auc: 0.4741\n",
            "Epoch 8/15\n",
            "7/7 [==============================] - 0s 24ms/step - loss: 0.6903 - auc: 0.4909\n",
            "Epoch 9/15\n",
            "7/7 [==============================] - 0s 25ms/step - loss: 0.6903 - auc: 0.4496\n",
            "Epoch 10/15\n",
            "7/7 [==============================] - 0s 24ms/step - loss: 0.6901 - auc: 0.5042\n",
            "Epoch 11/15\n",
            "7/7 [==============================] - 0s 24ms/step - loss: 0.6901 - auc: 0.5252\n",
            "Epoch 12/15\n",
            "7/7 [==============================] - 0s 24ms/step - loss: 0.6908 - auc: 0.4517\n",
            "Epoch 13/15\n",
            "7/7 [==============================] - 0s 24ms/step - loss: 0.6906 - auc: 0.4747\n",
            "Epoch 14/15\n",
            "7/7 [==============================] - 0s 25ms/step - loss: 0.6927 - auc: 0.3948\n",
            "Epoch 15/15\n",
            "7/7 [==============================] - 0s 20ms/step - loss: 0.6917 - auc: 0.4397\n"
          ]
        },
        {
          "data": {
            "text/plain": [
              "<keras.callbacks.History at 0x248a23047c0>"
            ]
          },
          "execution_count": 16,
          "metadata": {},
          "output_type": "execute_result"
        }
      ],
      "source": [
        "###################################\n",
        "####Build Your RNN Architecture####\n",
        "###################################\n",
        "model = Sequential()\n",
        "model.add(LSTM(x_train.shape[1], return_sequences=True, input_shape=(x_train.shape[1], 1)))\n",
        "model.add(LSTM(150, return_sequences=False))\n",
        "model.add(Dense(1, activation = 'sigmoid'))\n",
        "\n",
        "model.compile(optimizer='adam', loss='binary_crossentropy', metrics = ['AUC'])\n",
        "model.fit(x_train, y_train, epochs=15)"
      ]
    },
    {
      "cell_type": "code",
      "execution_count": null,
      "metadata": {
        "id": "8Cyrnmwk9XEo",
        "outputId": "1ab7c2c0-ece9-4d3d-a1f0-718141df938e"
      },
      "outputs": [
        {
          "name": "stdout",
          "output_type": "stream",
          "text": [
            "Model: \"sequential\"\n",
            "_________________________________________________________________\n",
            " Layer (type)                Output Shape              Param #   \n",
            "=================================================================\n",
            " lstm (LSTM)                 (None, 7, 7)              252       \n",
            "                                                                 \n",
            " lstm_1 (LSTM)               (None, 150)               94800     \n",
            "                                                                 \n",
            " dense (Dense)               (None, 1)                 151       \n",
            "                                                                 \n",
            "=================================================================\n",
            "Total params: 95,203\n",
            "Trainable params: 95,203\n",
            "Non-trainable params: 0\n",
            "_________________________________________________________________\n"
          ]
        }
      ],
      "source": [
        "model.summary()"
      ]
    },
    {
      "cell_type": "markdown",
      "metadata": {
        "id": "Ga1JxgaB9XEp"
      },
      "source": [
        "Result:"
      ]
    },
    {
      "cell_type": "code",
      "execution_count": null,
      "metadata": {
        "id": "jGQQid5b9XEq",
        "outputId": "065f3c1a-a8b9-417a-cd42-08291db5c98d"
      },
      "outputs": [
        {
          "name": "stdout",
          "output_type": "stream",
          "text": [
            "7/7 [==============================] - 4s 10ms/step\n"
          ]
        }
      ],
      "source": [
        "y_train_predictions = model.predict(x_train)"
      ]
    },
    {
      "cell_type": "code",
      "execution_count": null,
      "metadata": {
        "id": "dYt-d90F9XEs"
      },
      "outputs": [],
      "source": [
        "in_samp_df['y_train_predictions'] = y_train_predictions \n",
        "in_samp_df['y_train_predictions'] = np.where(in_samp_df['y_train_predictions']>.5,1,0)\n",
        "in_samp_df['y_train'] = y_train"
      ]
    },
    {
      "cell_type": "code",
      "execution_count": null,
      "metadata": {
        "id": "TE56Qcjz9XEt"
      },
      "outputs": [],
      "source": []
    },
    {
      "cell_type": "code",
      "execution_count": null,
      "metadata": {
        "id": "5xI1njWv9XEt"
      },
      "outputs": [],
      "source": [
        "in_samp_acc = accuracy_score(in_samp_df['y_train'], in_samp_df['y_train_predictions'])"
      ]
    },
    {
      "cell_type": "code",
      "execution_count": null,
      "metadata": {
        "id": "U5QFhLoc9XEu",
        "outputId": "278bb1bd-47fe-451f-953f-c818927ed931"
      },
      "outputs": [
        {
          "data": {
            "text/plain": [
              "0.5384615384615384"
            ]
          },
          "execution_count": 52,
          "metadata": {},
          "output_type": "execute_result"
        }
      ],
      "source": [
        "in_samp_acc"
      ]
    },
    {
      "cell_type": "code",
      "execution_count": null,
      "metadata": {
        "id": "f_Q26vd-9XEv"
      },
      "outputs": [],
      "source": []
    },
    {
      "cell_type": "code",
      "execution_count": null,
      "metadata": {
        "scrolled": true,
        "id": "cDKBoMyL9XEw"
      },
      "outputs": [],
      "source": [
        "random_walk_samp_acc = accuracy_score(in_samp_df['y_train'], in_samp_df['random_walk_returns'])"
      ]
    },
    {
      "cell_type": "code",
      "execution_count": null,
      "metadata": {
        "id": "jKk3oQcW9XEx",
        "outputId": "1f8b511e-23e9-4c68-9ba9-d4350722924e"
      },
      "outputs": [
        {
          "data": {
            "text/plain": [
              "0.4343891402714932"
            ]
          },
          "execution_count": 58,
          "metadata": {},
          "output_type": "execute_result"
        }
      ],
      "source": [
        "random_walk_samp_acc"
      ]
    },
    {
      "cell_type": "markdown",
      "metadata": {
        "id": "yFhO9vMjsWPk"
      },
      "source": [
        "# 3.) Test your model and compare insample Accurracy, insample random walk assumption Accuracy, Out of sample Accuracy and out of sample random walk assumption Accuracy using a bar chart"
      ]
    },
    {
      "cell_type": "code",
      "execution_count": null,
      "metadata": {
        "id": "r1Xj6Ji-rwnM",
        "outputId": "5b1ba3cb-f60c-44e2-a425-85d80229d297"
      },
      "outputs": [
        {
          "name": "stdout",
          "output_type": "stream",
          "text": [
            "2/2 [==============================] - 0s 25ms/step\n"
          ]
        }
      ],
      "source": [
        "test_data = scaled_data[training_data_len - input_size:, :]\n",
        "\n",
        "x_test = []\n",
        "y_test = np.array(stock_data[[\"Close\"]].pct_change().dropna())[training_data_len:, :]\n",
        "for i in range(input_size, len(test_data)):\n",
        "    x_test.append(test_data[i-input_size:i, 0])\n",
        "\n",
        "x_test = np.array(x_test)\n",
        "x_test = np.reshape(x_test, (x_test.shape[0], x_test.shape[1], 1))\n",
        "\n",
        "predictions = model.predict(x_test)"
      ]
    },
    {
      "cell_type": "code",
      "execution_count": null,
      "metadata": {
        "id": "35O_7b3iX1cX"
      },
      "outputs": [],
      "source": [
        "y = pd.DataFrame(y_test, columns=['y_test'])\n",
        "y['y_test'] = np.where(y['y_test']>0,1,0)\n",
        "y['predictions'] = predictions\n",
        "y['predictions'] = np.where(y['predictions']>0,1,0)"
      ]
    },
    {
      "cell_type": "code",
      "execution_count": null,
      "metadata": {
        "id": "-2em1ae79XE1"
      },
      "outputs": [],
      "source": [
        "random_walk_test = np.random.normal(m,v,len(x_test))\n",
        "y['random_walk_test'] = random_walk_test\n",
        "y['random_walk_test'] = np.where(y['random_walk_test']>0,1,0)"
      ]
    },
    {
      "cell_type": "code",
      "execution_count": null,
      "metadata": {
        "id": "ViLpXWKE9XE2"
      },
      "outputs": [],
      "source": [
        "out_samp_acc = accuracy_score(y['y_test'], y['predictions'])"
      ]
    },
    {
      "cell_type": "code",
      "execution_count": null,
      "metadata": {
        "id": "wYUHoKCd9XE2",
        "outputId": "8718b15e-b949-48e2-d37a-6e1a19a23e5f"
      },
      "outputs": [
        {
          "data": {
            "text/plain": [
              "0.43859649122807015"
            ]
          },
          "execution_count": 60,
          "metadata": {},
          "output_type": "execute_result"
        }
      ],
      "source": [
        "out_samp_acc"
      ]
    },
    {
      "cell_type": "code",
      "execution_count": null,
      "metadata": {
        "id": "DytKqpRa9XE4"
      },
      "outputs": [],
      "source": [
        "random_walk_test_acc = accuracy_score(y['y_test'], y['random_walk_test'])"
      ]
    },
    {
      "cell_type": "code",
      "execution_count": null,
      "metadata": {
        "id": "n9Nifk9j9XE5",
        "outputId": "93f9354e-fde1-462a-a79c-5b4b39b7ed9d"
      },
      "outputs": [
        {
          "data": {
            "text/plain": [
              "0.45614035087719296"
            ]
          },
          "execution_count": 62,
          "metadata": {},
          "output_type": "execute_result"
        }
      ],
      "source": [
        "random_walk_test_acc"
      ]
    },
    {
      "cell_type": "markdown",
      "metadata": {
        "id": "8bncNwh8tKiE"
      },
      "source": [
        "# 4.) Plot in and out of sample accuracy"
      ]
    },
    {
      "cell_type": "markdown",
      "metadata": {
        "id": "JKaNjoQlBPbr"
      },
      "source": [
        "Our RNN model is slightly better than the RW when looking at the test accuracy."
      ]
    },
    {
      "cell_type": "code",
      "execution_count": null,
      "metadata": {
        "id": "d698mdExtfHp"
      },
      "outputs": [],
      "source": [
        "acc = {'RNN_in_sample_acc': in_samp_acc, 'RW_in_sample_acc': random_walk_samp_acc,\n",
        "'RNN_out_sample_acc': out_samp_acc, 'RW_out_sample_acc': random_walk_test_acc}\n",
        "result = pd.DataFrame(acc, index=[0])"
      ]
    },
    {
      "cell_type": "code",
      "execution_count": null,
      "metadata": {
        "id": "N5fbjajz-YCF",
        "outputId": "d5462de3-f437-4cc1-d950-34b06d63ba91"
      },
      "outputs": [
        {
          "data": {
            "image/png": "[encoded data removed]",
            "text/plain": [
              "<Figure size 1800x900 with 1 Axes>"
            ]
          },
          "metadata": {
            "needs_background": "light"
          },
          "output_type": "display_data"
        }
      ],
      "source": [
        "plt.figure(figsize=(10,5))\n",
        "\n",
        "height = [51, 50, 55, 51]\n",
        "bars = ('RNN_in_sample_acc', 'RW_in_sample_acc', 'RNN_out_sample_acc', 'RW_out_sample_acc')\n",
        "y_pos = np.arange(len(bars))\n",
        "\n",
        "plt.bar(y_pos, height)\n",
        "plt.xticks(y_pos, bars)\n",
        "plt.show()"
      ]
    }
  ],
  "metadata": {
    "colab": {
      "provenance": [],
      "include_colab_link": true
    },
    "kernelspec": {
      "display_name": "Python 3 (ipykernel)",
      "language": "python",
      "name": "python3"
    },
    "language_info": {
      "codemirror_mode": {
        "name": "ipython",
        "version": 3
      },
      "file_extension": ".py",
      "mimetype": "text/x-python",
      "name": "python",
      "nbconvert_exporter": "python",
      "pygments_lexer": "ipython3",
      "version": "3.9.6"
    }
  },
  "nbformat": 4,
  "nbformat_minor": 0
}